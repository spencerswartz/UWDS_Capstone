{
 "cells": [
  {
   "cell_type": "markdown",
   "metadata": {},
   "source": [
    "# ML model to predict retweets based on text of document (Doc2Vec)"
   ]
  },
  {
   "cell_type": "code",
   "execution_count": 70,
   "metadata": {},
   "outputs": [],
   "source": [
    "import pandas as pd\n",
    "import gensim\n",
    "import sklearn\n",
    "import numpy as np\n",
    "import matplotlib.pyplot as plt\n",
    "import ast"
   ]
  },
  {
   "cell_type": "code",
   "execution_count": 71,
   "metadata": {},
   "outputs": [],
   "source": [
    "twts= pd.read_csv('../Data/BrewersAssoc.csv', encoding='latin')\n",
    "#df2 = pd.read_csv('../Data/craftbeerdotcom.csv', encoding='latin')\n",
    "#df3 = pd.read_csv('../Data/HomebrewAssoc.csv', encoding='latin')\n",
    "tags = pd.read_csv('../Data/hashtags.csv', encoding='latin')\n",
    "#twtids = [df,df2,df3]\n",
    "#twts = pd.concat(twtids)"
   ]
  },
  {
   "cell_type": "code",
   "execution_count": 72,
   "metadata": {},
   "outputs": [
    {
     "data": {
      "text/plain": [
       "['Unnamed: 0',\n",
       " 'contributors',\n",
       " 'coordinates',\n",
       " 'created_at',\n",
       " 'entities',\n",
       " 'extended_entities',\n",
       " 'favorite_count',\n",
       " 'favorited',\n",
       " 'geo',\n",
       " 'id',\n",
       " 'id_str',\n",
       " 'in_reply_to_screen_name',\n",
       " 'in_reply_to_status_id',\n",
       " 'in_reply_to_status_id_str',\n",
       " 'in_reply_to_user_id',\n",
       " 'in_reply_to_user_id_str',\n",
       " 'is_quote_status',\n",
       " 'lang',\n",
       " 'place',\n",
       " 'possibly_sensitive',\n",
       " 'quoted_status',\n",
       " 'quoted_status_id',\n",
       " 'quoted_status_id_str',\n",
       " 'retweet_count',\n",
       " 'retweeted',\n",
       " 'retweeted_status',\n",
       " 'source',\n",
       " 'text',\n",
       " 'truncated',\n",
       " 'user']"
      ]
     },
     "execution_count": 72,
     "metadata": {},
     "output_type": "execute_result"
    }
   ],
   "source": [
    "list(twts.columns)"
   ]
  },
  {
   "cell_type": "code",
   "execution_count": 73,
   "metadata": {},
   "outputs": [
    {
     "name": "stdout",
     "output_type": "stream",
     "text": [
      "16697\n",
      "5958\n"
     ]
    },
    {
     "data": {
      "text/html": [
       "<div>\n",
       "<style scoped>\n",
       "    .dataframe tbody tr th:only-of-type {\n",
       "        vertical-align: middle;\n",
       "    }\n",
       "\n",
       "    .dataframe tbody tr th {\n",
       "        vertical-align: top;\n",
       "    }\n",
       "\n",
       "    .dataframe thead th {\n",
       "        text-align: right;\n",
       "    }\n",
       "</style>\n",
       "<table border=\"1\" class=\"dataframe\">\n",
       "  <thead>\n",
       "    <tr style=\"text-align: right;\">\n",
       "      <th></th>\n",
       "      <th>indices</th>\n",
       "      <th>text</th>\n",
       "      <th>tweet_id</th>\n",
       "      <th>start_x</th>\n",
       "      <th>end</th>\n",
       "      <th>start_y</th>\n",
       "    </tr>\n",
       "  </thead>\n",
       "  <tbody>\n",
       "    <tr>\n",
       "      <th>0</th>\n",
       "      <td>[64, 72]</td>\n",
       "      <td>brewing</td>\n",
       "      <td>961000377490526209</td>\n",
       "      <td>64</td>\n",
       "      <td>72</td>\n",
       "      <td>64</td>\n",
       "    </tr>\n",
       "    <tr>\n",
       "      <th>1</th>\n",
       "      <td>[51, 57]</td>\n",
       "      <td>beers</td>\n",
       "      <td>960948770618912769</td>\n",
       "      <td>51</td>\n",
       "      <td>57</td>\n",
       "      <td>51</td>\n",
       "    </tr>\n",
       "    <tr>\n",
       "      <th>3</th>\n",
       "      <td>[50, 58]</td>\n",
       "      <td>beerbiz</td>\n",
       "      <td>960897807581196288</td>\n",
       "      <td>50</td>\n",
       "      <td>58</td>\n",
       "      <td>50</td>\n",
       "    </tr>\n",
       "    <tr>\n",
       "      <th>5</th>\n",
       "      <td>[43, 51]</td>\n",
       "      <td>brewery</td>\n",
       "      <td>960872025983275010</td>\n",
       "      <td>43</td>\n",
       "      <td>51</td>\n",
       "      <td>43</td>\n",
       "    </tr>\n",
       "    <tr>\n",
       "      <th>6</th>\n",
       "      <td>[33, 41]</td>\n",
       "      <td>brewery</td>\n",
       "      <td>960591421618126849</td>\n",
       "      <td>33</td>\n",
       "      <td>41</td>\n",
       "      <td>33</td>\n",
       "    </tr>\n",
       "  </tbody>\n",
       "</table>\n",
       "</div>"
      ],
      "text/plain": [
       "    indices     text            tweet_id  start_x  end  start_y\n",
       "0  [64, 72]  brewing  961000377490526209       64   72       64\n",
       "1  [51, 57]    beers  960948770618912769       51   57       51\n",
       "3  [50, 58]  beerbiz  960897807581196288       50   58       50\n",
       "5  [43, 51]  brewery  960872025983275010       43   51       43\n",
       "6  [33, 41]  brewery  960591421618126849       33   41       33"
      ]
     },
     "execution_count": 73,
     "metadata": {},
     "output_type": "execute_result"
    }
   ],
   "source": [
    "tags.indices = tags.indices.apply(lambda x: ast.literal_eval(x))\n",
    "Stst= pd.DataFrame(tags.indices.values.tolist(), index= tags.index,columns=['start','end'])\n",
    "tags = tags.join(Stst)\n",
    "minstart = pd.DataFrame(tags.groupby('tweet_id')['start'].min())\n",
    "tags = tags.merge(minstart, left_on='tweet_id', right_index=True)\n",
    "print(len(tags))\n",
    "tags = tags[tags.start_x == tags.start_y]\n",
    "print(len(tags))\n",
    "tags.head()\n"
   ]
  },
  {
   "cell_type": "code",
   "execution_count": 74,
   "metadata": {},
   "outputs": [
    {
     "name": "stdout",
     "output_type": "stream",
     "text": [
      "3200\n",
      "3200\n"
     ]
    },
    {
     "data": {
      "text/html": [
       "<div>\n",
       "<style scoped>\n",
       "    .dataframe tbody tr th:only-of-type {\n",
       "        vertical-align: middle;\n",
       "    }\n",
       "\n",
       "    .dataframe tbody tr th {\n",
       "        vertical-align: top;\n",
       "    }\n",
       "\n",
       "    .dataframe thead th {\n",
       "        text-align: right;\n",
       "    }\n",
       "</style>\n",
       "<table border=\"1\" class=\"dataframe\">\n",
       "  <thead>\n",
       "    <tr style=\"text-align: right;\">\n",
       "      <th></th>\n",
       "      <th>id</th>\n",
       "      <th>text_x</th>\n",
       "      <th>truncated</th>\n",
       "      <th>retweet_count</th>\n",
       "      <th>tweet_id</th>\n",
       "      <th>text_y</th>\n",
       "      <th>start_y</th>\n",
       "      <th>end</th>\n",
       "    </tr>\n",
       "  </thead>\n",
       "  <tbody>\n",
       "    <tr>\n",
       "      <th>0</th>\n",
       "      <td>961021728427298816</td>\n",
       "      <td>~75% of the barley grown in the US is produced...</td>\n",
       "      <td>True</td>\n",
       "      <td>5</td>\n",
       "      <td>NaN</td>\n",
       "      <td>NaN</td>\n",
       "      <td>NaN</td>\n",
       "      <td>NaN</td>\n",
       "    </tr>\n",
       "    <tr>\n",
       "      <th>1</th>\n",
       "      <td>961000377490526209</td>\n",
       "      <td>\"@CrystalLakeBrew represents the very definiti...</td>\n",
       "      <td>True</td>\n",
       "      <td>3</td>\n",
       "      <td>9.610004e+17</td>\n",
       "      <td>brewing</td>\n",
       "      <td>64.0</td>\n",
       "      <td>72.0</td>\n",
       "    </tr>\n",
       "    <tr>\n",
       "      <th>2</th>\n",
       "      <td>960948770618912769</td>\n",
       "      <td>The concept of \"new\". The how and why to add g...</td>\n",
       "      <td>False</td>\n",
       "      <td>0</td>\n",
       "      <td>9.609488e+17</td>\n",
       "      <td>beers</td>\n",
       "      <td>51.0</td>\n",
       "      <td>57.0</td>\n",
       "    </tr>\n",
       "    <tr>\n",
       "      <th>3</th>\n",
       "      <td>960897807581196288</td>\n",
       "      <td>An awesome new benefit for all BA voting membe...</td>\n",
       "      <td>False</td>\n",
       "      <td>0</td>\n",
       "      <td>9.608978e+17</td>\n",
       "      <td>beerbiz</td>\n",
       "      <td>50.0</td>\n",
       "      <td>58.0</td>\n",
       "    </tr>\n",
       "    <tr>\n",
       "      <th>4</th>\n",
       "      <td>960895367813345280</td>\n",
       "      <td>RT @LottePeplow: @BrewersAssoc will be at @cra...</td>\n",
       "      <td>False</td>\n",
       "      <td>2</td>\n",
       "      <td>NaN</td>\n",
       "      <td>NaN</td>\n",
       "      <td>NaN</td>\n",
       "      <td>NaN</td>\n",
       "    </tr>\n",
       "  </tbody>\n",
       "</table>\n",
       "</div>"
      ],
      "text/plain": [
       "                   id                                             text_x  \\\n",
       "0  961021728427298816  ~75% of the barley grown in the US is produced...   \n",
       "1  961000377490526209  \"@CrystalLakeBrew represents the very definiti...   \n",
       "2  960948770618912769  The concept of \"new\". The how and why to add g...   \n",
       "3  960897807581196288  An awesome new benefit for all BA voting membe...   \n",
       "4  960895367813345280  RT @LottePeplow: @BrewersAssoc will be at @cra...   \n",
       "\n",
       "   truncated  retweet_count      tweet_id   text_y  start_y   end  \n",
       "0       True              5           NaN      NaN      NaN   NaN  \n",
       "1       True              3  9.610004e+17  brewing     64.0  72.0  \n",
       "2      False              0  9.609488e+17    beers     51.0  57.0  \n",
       "3      False              0  9.608978e+17  beerbiz     50.0  58.0  \n",
       "4      False              2           NaN      NaN      NaN   NaN  "
      ]
     },
     "execution_count": 74,
     "metadata": {},
     "output_type": "execute_result"
    }
   ],
   "source": [
    "twtText = twts[['id','text','truncated','retweet_count']].copy()\n",
    "print(len(twtText))\n",
    "twtText = twtText.merge(tags[['tweet_id','text', 'start_y','end']], left_on='id', right_on='tweet_id', how='left')\n",
    "print(len(twtText))\n",
    "twtText['text_y'] = twtText['text_y'].str.lower()\n",
    "twtText.head()"
   ]
  },
  {
   "cell_type": "markdown",
   "metadata": {},
   "source": [
    "#### These functions remove hashtags/links/usernames/puncuation from a tweet\n",
    "Thanks https://stackoverflow.com/questions/8376691/how-to-remove-hashtag-user-link-of-a-tweet-using-regular-expression"
   ]
  },
  {
   "cell_type": "code",
   "execution_count": 75,
   "metadata": {},
   "outputs": [],
   "source": [
    "import re,string\n",
    "\n",
    "def strip_links(text):\n",
    "    link_regex    = re.compile('((https?):((//)|(\\\\\\\\))+([\\w\\d:#@%/;$()~_?\\+-=\\\\\\.&](#!)?)*)', re.DOTALL)\n",
    "    links         = re.findall(link_regex, text)\n",
    "    for link in links:\n",
    "        text = text.replace(link[0], ', ')    \n",
    "    return text\n",
    "\n",
    "def strip_all_entities(text):\n",
    "    entity_prefixes = ['@','#']\n",
    "    for separator in  string.punctuation:\n",
    "        if separator not in entity_prefixes :\n",
    "            text = text.replace(separator,' ')\n",
    "    words = []\n",
    "    for word in text.split():\n",
    "        word = word.strip()\n",
    "        if word:\n",
    "            if word[0] not in entity_prefixes:\n",
    "                words.append(word)\n",
    "    return ' '.join(words)"
   ]
  },
  {
   "cell_type": "code",
   "execution_count": 76,
   "metadata": {},
   "outputs": [
    {
     "name": "stdout",
     "output_type": "stream",
     "text": [
      "\"@CrystalLakeBrew represents the very definition of local craft #brewing.\" Founded by longtime friends, they strong",
      " https://t.co/Xv0zmi7eqj\n",
      "represents the very definition of local craft founded by longtime friends they strong\n"
     ]
    },
    {
     "data": {
      "text/html": [
       "<div>\n",
       "<style scoped>\n",
       "    .dataframe tbody tr th:only-of-type {\n",
       "        vertical-align: middle;\n",
       "    }\n",
       "\n",
       "    .dataframe tbody tr th {\n",
       "        vertical-align: top;\n",
       "    }\n",
       "\n",
       "    .dataframe thead th {\n",
       "        text-align: right;\n",
       "    }\n",
       "</style>\n",
       "<table border=\"1\" class=\"dataframe\">\n",
       "  <thead>\n",
       "    <tr style=\"text-align: right;\">\n",
       "      <th></th>\n",
       "      <th>id</th>\n",
       "      <th>text_x</th>\n",
       "      <th>truncated</th>\n",
       "      <th>retweet_count</th>\n",
       "      <th>tweet_id</th>\n",
       "      <th>text_y</th>\n",
       "      <th>start_y</th>\n",
       "      <th>end</th>\n",
       "      <th>parsedText</th>\n",
       "    </tr>\n",
       "  </thead>\n",
       "  <tbody>\n",
       "    <tr>\n",
       "      <th>0</th>\n",
       "      <td>961021728427298816</td>\n",
       "      <td>~75% of the barley grown in the US is produced...</td>\n",
       "      <td>True</td>\n",
       "      <td>5</td>\n",
       "      <td>NaN</td>\n",
       "      <td>NaN</td>\n",
       "      <td>NaN</td>\n",
       "      <td>NaN</td>\n",
       "      <td>75 of the barley grown in the us is produced i...</td>\n",
       "    </tr>\n",
       "    <tr>\n",
       "      <th>1</th>\n",
       "      <td>961000377490526209</td>\n",
       "      <td>\"@CrystalLakeBrew represents the very definiti...</td>\n",
       "      <td>True</td>\n",
       "      <td>3</td>\n",
       "      <td>9.610004e+17</td>\n",
       "      <td>brewing</td>\n",
       "      <td>64.0</td>\n",
       "      <td>72.0</td>\n",
       "      <td>represents the very definition of local craft ...</td>\n",
       "    </tr>\n",
       "    <tr>\n",
       "      <th>2</th>\n",
       "      <td>960948770618912769</td>\n",
       "      <td>The concept of \"new\". The how and why to add g...</td>\n",
       "      <td>False</td>\n",
       "      <td>0</td>\n",
       "      <td>9.609488e+17</td>\n",
       "      <td>beers</td>\n",
       "      <td>51.0</td>\n",
       "      <td>57.0</td>\n",
       "      <td>the concept of new the how and why to add gues...</td>\n",
       "    </tr>\n",
       "    <tr>\n",
       "      <th>3</th>\n",
       "      <td>960897807581196288</td>\n",
       "      <td>An awesome new benefit for all BA voting membe...</td>\n",
       "      <td>False</td>\n",
       "      <td>0</td>\n",
       "      <td>9.608978e+17</td>\n",
       "      <td>beerbiz</td>\n",
       "      <td>50.0</td>\n",
       "      <td>58.0</td>\n",
       "      <td>an awesome new benefit for all ba voting members</td>\n",
       "    </tr>\n",
       "    <tr>\n",
       "      <th>4</th>\n",
       "      <td>960895367813345280</td>\n",
       "      <td>RT @LottePeplow: @BrewersAssoc will be at @cra...</td>\n",
       "      <td>False</td>\n",
       "      <td>2</td>\n",
       "      <td>NaN</td>\n",
       "      <td>NaN</td>\n",
       "      <td>NaN</td>\n",
       "      <td>NaN</td>\n",
       "      <td>rt will be at with a diverse innovative range ...</td>\n",
       "    </tr>\n",
       "  </tbody>\n",
       "</table>\n",
       "</div>"
      ],
      "text/plain": [
       "                   id                                             text_x  \\\n",
       "0  961021728427298816  ~75% of the barley grown in the US is produced...   \n",
       "1  961000377490526209  \"@CrystalLakeBrew represents the very definiti...   \n",
       "2  960948770618912769  The concept of \"new\". The how and why to add g...   \n",
       "3  960897807581196288  An awesome new benefit for all BA voting membe...   \n",
       "4  960895367813345280  RT @LottePeplow: @BrewersAssoc will be at @cra...   \n",
       "\n",
       "   truncated  retweet_count      tweet_id   text_y  start_y   end  \\\n",
       "0       True              5           NaN      NaN      NaN   NaN   \n",
       "1       True              3  9.610004e+17  brewing     64.0  72.0   \n",
       "2      False              0  9.609488e+17    beers     51.0  57.0   \n",
       "3      False              0  9.608978e+17  beerbiz     50.0  58.0   \n",
       "4      False              2           NaN      NaN      NaN   NaN   \n",
       "\n",
       "                                          parsedText  \n",
       "0  75 of the barley grown in the us is produced i...  \n",
       "1  represents the very definition of local craft ...  \n",
       "2  the concept of new the how and why to add gues...  \n",
       "3   an awesome new benefit for all ba voting members  \n",
       "4  rt will be at with a diverse innovative range ...  "
      ]
     },
     "execution_count": 76,
     "metadata": {},
     "output_type": "execute_result"
    }
   ],
   "source": [
    "twtText['parsedText'] = twtText.text_x.apply(lambda x: str.lower(strip_all_entities(strip_links(x))))\n",
    "print(twtText.text_x[1])\n",
    "print(twtText.parsedText[1])\n",
    "twtText.head()"
   ]
  },
  {
   "cell_type": "code",
   "execution_count": null,
   "metadata": {},
   "outputs": [],
   "source": []
  },
  {
   "cell_type": "markdown",
   "metadata": {},
   "source": [
    "# FUTURE SPENCER YOU ARE HERE. You are now trying to prescribe an appropreate hashtag based on the content of the message\n",
    "#### To do this, you still need to strip the text of the current hashtag(s) and then re define the documents similar to bellow\n",
    "#### after this we should be able to predict best hashtags, hopfully with alright accuracy"
   ]
  },
  {
   "cell_type": "code",
   "execution_count": null,
   "metadata": {},
   "outputs": [],
   "source": [
    "\n"
   ]
  },
  {
   "cell_type": "code",
   "execution_count": 77,
   "metadata": {},
   "outputs": [],
   "source": [
    "def read_corpus(df,col, tokens_only=False):\n",
    "    for index, row in df.iterrows():\n",
    "        yield gensim.models.doc2vec.TaggedDocument(row[col], [index])"
   ]
  },
  {
   "cell_type": "code",
   "execution_count": 78,
   "metadata": {},
   "outputs": [
    {
     "data": {
      "text/plain": [
       "[TaggedDocument(words='75 of the barley grown in the us is produced in 5 states do you know which ones', tags=[0]),\n",
       " TaggedDocument(words='represents the very definition of local craft founded by longtime friends they strong', tags=[1])]"
      ]
     },
     "execution_count": 78,
     "metadata": {},
     "output_type": "execute_result"
    }
   ],
   "source": [
    "test = list(read_corpus(df = twtText, col = 'parsedText'))\n",
    "test[:2]"
   ]
  },
  {
   "cell_type": "code",
   "execution_count": 79,
   "metadata": {},
   "outputs": [],
   "source": [
    "#twtText['tokens'] = twtText['text'].apply(lambda x: gensim.utils.simple_preprocess(x))"
   ]
  },
  {
   "cell_type": "code",
   "execution_count": 80,
   "metadata": {},
   "outputs": [
    {
     "data": {
      "text/html": [
       "<div>\n",
       "<style scoped>\n",
       "    .dataframe tbody tr th:only-of-type {\n",
       "        vertical-align: middle;\n",
       "    }\n",
       "\n",
       "    .dataframe tbody tr th {\n",
       "        vertical-align: top;\n",
       "    }\n",
       "\n",
       "    .dataframe thead th {\n",
       "        text-align: right;\n",
       "    }\n",
       "</style>\n",
       "<table border=\"1\" class=\"dataframe\">\n",
       "  <thead>\n",
       "    <tr style=\"text-align: right;\">\n",
       "      <th></th>\n",
       "      <th>id</th>\n",
       "      <th>text_x</th>\n",
       "      <th>truncated</th>\n",
       "      <th>retweet_count</th>\n",
       "      <th>tweet_id</th>\n",
       "      <th>text_y</th>\n",
       "      <th>start_y</th>\n",
       "      <th>end</th>\n",
       "      <th>parsedText</th>\n",
       "    </tr>\n",
       "  </thead>\n",
       "  <tbody>\n",
       "    <tr>\n",
       "      <th>0</th>\n",
       "      <td>961021728427298816</td>\n",
       "      <td>~75% of the barley grown in the US is produced...</td>\n",
       "      <td>True</td>\n",
       "      <td>5</td>\n",
       "      <td>NaN</td>\n",
       "      <td>NaN</td>\n",
       "      <td>NaN</td>\n",
       "      <td>NaN</td>\n",
       "      <td>75 of the barley grown in the us is produced i...</td>\n",
       "    </tr>\n",
       "    <tr>\n",
       "      <th>1</th>\n",
       "      <td>961000377490526209</td>\n",
       "      <td>\"@CrystalLakeBrew represents the very definiti...</td>\n",
       "      <td>True</td>\n",
       "      <td>3</td>\n",
       "      <td>9.610004e+17</td>\n",
       "      <td>brewing</td>\n",
       "      <td>64.0</td>\n",
       "      <td>72.0</td>\n",
       "      <td>represents the very definition of local craft ...</td>\n",
       "    </tr>\n",
       "    <tr>\n",
       "      <th>2</th>\n",
       "      <td>960948770618912769</td>\n",
       "      <td>The concept of \"new\". The how and why to add g...</td>\n",
       "      <td>False</td>\n",
       "      <td>0</td>\n",
       "      <td>9.609488e+17</td>\n",
       "      <td>beers</td>\n",
       "      <td>51.0</td>\n",
       "      <td>57.0</td>\n",
       "      <td>the concept of new the how and why to add gues...</td>\n",
       "    </tr>\n",
       "    <tr>\n",
       "      <th>3</th>\n",
       "      <td>960897807581196288</td>\n",
       "      <td>An awesome new benefit for all BA voting membe...</td>\n",
       "      <td>False</td>\n",
       "      <td>0</td>\n",
       "      <td>9.608978e+17</td>\n",
       "      <td>beerbiz</td>\n",
       "      <td>50.0</td>\n",
       "      <td>58.0</td>\n",
       "      <td>an awesome new benefit for all ba voting members</td>\n",
       "    </tr>\n",
       "    <tr>\n",
       "      <th>4</th>\n",
       "      <td>960895367813345280</td>\n",
       "      <td>RT @LottePeplow: @BrewersAssoc will be at @cra...</td>\n",
       "      <td>False</td>\n",
       "      <td>2</td>\n",
       "      <td>NaN</td>\n",
       "      <td>NaN</td>\n",
       "      <td>NaN</td>\n",
       "      <td>NaN</td>\n",
       "      <td>rt will be at with a diverse innovative range ...</td>\n",
       "    </tr>\n",
       "  </tbody>\n",
       "</table>\n",
       "</div>"
      ],
      "text/plain": [
       "                   id                                             text_x  \\\n",
       "0  961021728427298816  ~75% of the barley grown in the US is produced...   \n",
       "1  961000377490526209  \"@CrystalLakeBrew represents the very definiti...   \n",
       "2  960948770618912769  The concept of \"new\". The how and why to add g...   \n",
       "3  960897807581196288  An awesome new benefit for all BA voting membe...   \n",
       "4  960895367813345280  RT @LottePeplow: @BrewersAssoc will be at @cra...   \n",
       "\n",
       "   truncated  retweet_count      tweet_id   text_y  start_y   end  \\\n",
       "0       True              5           NaN      NaN      NaN   NaN   \n",
       "1       True              3  9.610004e+17  brewing     64.0  72.0   \n",
       "2      False              0  9.609488e+17    beers     51.0  57.0   \n",
       "3      False              0  9.608978e+17  beerbiz     50.0  58.0   \n",
       "4      False              2           NaN      NaN      NaN   NaN   \n",
       "\n",
       "                                          parsedText  \n",
       "0  75 of the barley grown in the us is produced i...  \n",
       "1  represents the very definition of local craft ...  \n",
       "2  the concept of new the how and why to add gues...  \n",
       "3   an awesome new benefit for all ba voting members  \n",
       "4  rt will be at with a diverse innovative range ...  "
      ]
     },
     "execution_count": 80,
     "metadata": {},
     "output_type": "execute_result"
    }
   ],
   "source": [
    "twtText.head()"
   ]
  },
  {
   "cell_type": "code",
   "execution_count": 81,
   "metadata": {},
   "outputs": [],
   "source": [
    "model = gensim.models.doc2vec.Doc2Vec(vector_size=100, min_count=2, epochs=500, workers=4)"
   ]
  },
  {
   "cell_type": "code",
   "execution_count": 82,
   "metadata": {},
   "outputs": [],
   "source": [
    "model.build_vocab(test)"
   ]
  },
  {
   "cell_type": "code",
   "execution_count": 83,
   "metadata": {},
   "outputs": [
    {
     "name": "stdout",
     "output_type": "stream",
     "text": [
      "Wall time: 1min 27s\n"
     ]
    }
   ],
   "source": [
    "%time model.train(test, total_examples=model.corpus_count, epochs=model.epochs)"
   ]
  },
  {
   "cell_type": "markdown",
   "metadata": {},
   "source": [
    "## Create DocVectors, will be used as features for ML model"
   ]
  },
  {
   "cell_type": "code",
   "execution_count": 84,
   "metadata": {},
   "outputs": [
    {
     "data": {
      "text/html": [
       "<div>\n",
       "<style scoped>\n",
       "    .dataframe tbody tr th:only-of-type {\n",
       "        vertical-align: middle;\n",
       "    }\n",
       "\n",
       "    .dataframe tbody tr th {\n",
       "        vertical-align: top;\n",
       "    }\n",
       "\n",
       "    .dataframe thead th {\n",
       "        text-align: right;\n",
       "    }\n",
       "</style>\n",
       "<table border=\"1\" class=\"dataframe\">\n",
       "  <thead>\n",
       "    <tr style=\"text-align: right;\">\n",
       "      <th></th>\n",
       "      <th>id</th>\n",
       "      <th>text_x</th>\n",
       "      <th>truncated</th>\n",
       "      <th>retweet_count</th>\n",
       "      <th>tweet_id</th>\n",
       "      <th>text_y</th>\n",
       "      <th>start_y</th>\n",
       "      <th>end</th>\n",
       "      <th>parsedText</th>\n",
       "      <th>docVec</th>\n",
       "    </tr>\n",
       "  </thead>\n",
       "  <tbody>\n",
       "    <tr>\n",
       "      <th>0</th>\n",
       "      <td>961021728427298816</td>\n",
       "      <td>~75% of the barley grown in the US is produced...</td>\n",
       "      <td>True</td>\n",
       "      <td>5</td>\n",
       "      <td>NaN</td>\n",
       "      <td>NaN</td>\n",
       "      <td>NaN</td>\n",
       "      <td>NaN</td>\n",
       "      <td>75 of the barley grown in the us is produced i...</td>\n",
       "      <td>[0.0835477, -0.0520397, -0.0237852, 0.224665, ...</td>\n",
       "    </tr>\n",
       "    <tr>\n",
       "      <th>1</th>\n",
       "      <td>961000377490526209</td>\n",
       "      <td>\"@CrystalLakeBrew represents the very definiti...</td>\n",
       "      <td>True</td>\n",
       "      <td>3</td>\n",
       "      <td>9.610004e+17</td>\n",
       "      <td>brewing</td>\n",
       "      <td>64.0</td>\n",
       "      <td>72.0</td>\n",
       "      <td>represents the very definition of local craft ...</td>\n",
       "      <td>[-0.129798, 0.00309063, -0.372665, 0.325803, 0...</td>\n",
       "    </tr>\n",
       "    <tr>\n",
       "      <th>2</th>\n",
       "      <td>960948770618912769</td>\n",
       "      <td>The concept of \"new\". The how and why to add g...</td>\n",
       "      <td>False</td>\n",
       "      <td>0</td>\n",
       "      <td>9.609488e+17</td>\n",
       "      <td>beers</td>\n",
       "      <td>51.0</td>\n",
       "      <td>57.0</td>\n",
       "      <td>the concept of new the how and why to add gues...</td>\n",
       "      <td>[0.0583688, -0.268676, 0.0770097, 0.0411815, 0...</td>\n",
       "    </tr>\n",
       "    <tr>\n",
       "      <th>3</th>\n",
       "      <td>960897807581196288</td>\n",
       "      <td>An awesome new benefit for all BA voting membe...</td>\n",
       "      <td>False</td>\n",
       "      <td>0</td>\n",
       "      <td>9.608978e+17</td>\n",
       "      <td>beerbiz</td>\n",
       "      <td>50.0</td>\n",
       "      <td>58.0</td>\n",
       "      <td>an awesome new benefit for all ba voting members</td>\n",
       "      <td>[-0.0534776, -0.267487, 0.0305778, -0.106771, ...</td>\n",
       "    </tr>\n",
       "    <tr>\n",
       "      <th>4</th>\n",
       "      <td>960895367813345280</td>\n",
       "      <td>RT @LottePeplow: @BrewersAssoc will be at @cra...</td>\n",
       "      <td>False</td>\n",
       "      <td>2</td>\n",
       "      <td>NaN</td>\n",
       "      <td>NaN</td>\n",
       "      <td>NaN</td>\n",
       "      <td>NaN</td>\n",
       "      <td>rt will be at with a diverse innovative range ...</td>\n",
       "      <td>[-0.200694, 0.328279, -0.155725, 0.00124396, -...</td>\n",
       "    </tr>\n",
       "  </tbody>\n",
       "</table>\n",
       "</div>"
      ],
      "text/plain": [
       "                   id                                             text_x  \\\n",
       "0  961021728427298816  ~75% of the barley grown in the US is produced...   \n",
       "1  961000377490526209  \"@CrystalLakeBrew represents the very definiti...   \n",
       "2  960948770618912769  The concept of \"new\". The how and why to add g...   \n",
       "3  960897807581196288  An awesome new benefit for all BA voting membe...   \n",
       "4  960895367813345280  RT @LottePeplow: @BrewersAssoc will be at @cra...   \n",
       "\n",
       "   truncated  retweet_count      tweet_id   text_y  start_y   end  \\\n",
       "0       True              5           NaN      NaN      NaN   NaN   \n",
       "1       True              3  9.610004e+17  brewing     64.0  72.0   \n",
       "2      False              0  9.609488e+17    beers     51.0  57.0   \n",
       "3      False              0  9.608978e+17  beerbiz     50.0  58.0   \n",
       "4      False              2           NaN      NaN      NaN   NaN   \n",
       "\n",
       "                                          parsedText  \\\n",
       "0  75 of the barley grown in the us is produced i...   \n",
       "1  represents the very definition of local craft ...   \n",
       "2  the concept of new the how and why to add gues...   \n",
       "3   an awesome new benefit for all ba voting members   \n",
       "4  rt will be at with a diverse innovative range ...   \n",
       "\n",
       "                                              docVec  \n",
       "0  [0.0835477, -0.0520397, -0.0237852, 0.224665, ...  \n",
       "1  [-0.129798, 0.00309063, -0.372665, 0.325803, 0...  \n",
       "2  [0.0583688, -0.268676, 0.0770097, 0.0411815, 0...  \n",
       "3  [-0.0534776, -0.267487, 0.0305778, -0.106771, ...  \n",
       "4  [-0.200694, 0.328279, -0.155725, 0.00124396, -...  "
      ]
     },
     "execution_count": 84,
     "metadata": {},
     "output_type": "execute_result"
    }
   ],
   "source": [
    "twtText['docVec'] = twtText.parsedText.apply(lambda x : model.infer_vector(x))\n",
    "twtText.head()"
   ]
  },
  {
   "cell_type": "markdown",
   "metadata": {},
   "source": [
    "# Predict best Hashtag \n",
    "##### (a good hashtag mean lots of retweets right!?)"
   ]
  },
  {
   "cell_type": "code",
   "execution_count": 85,
   "metadata": {},
   "outputs": [
    {
     "data": {
      "text/plain": [
       "165"
      ]
     },
     "execution_count": 85,
     "metadata": {},
     "output_type": "execute_result"
    }
   ],
   "source": [
    "X = np.array(twtText.docVec[pd.isna(twtText.text_y) != True].tolist())\n",
    "y = twtText.text_y.values[pd.isna(twtText.text_y) != True]\n",
    "len(pd.unique(twtText['text_y']))"
   ]
  },
  {
   "cell_type": "code",
   "execution_count": 86,
   "metadata": {},
   "outputs": [
    {
     "name": "stdout",
     "output_type": "stream",
     "text": [
      "0.283171521036\n",
      "['beer']\n",
      "[0.055079133349073994, 0.059537145116004733, 0.069909612683287312, 0.15170099968246398, 0.15542974580156446]\n",
      "['savor', 'cbc16', 'cbc17', 'beer', 'beerbiz']\n",
      "~75% of the barley grown in the US is produced in 5 states, do you know which ones? https://t.co/fmISNP4twQ",
      " https://t.co/GFEvcO5Ayh\n",
      "['beer']\n",
      "[0.053623413902221514, 0.066439877818418855, 0.093450353612366963, 0.15162407782375992, 0.15885491914876224]\n",
      "['cbc16', 'craftbeer', 'brewery', 'beer', 'beerbiz']\n",
      "\"@CrystalLakeBrew represents the very definition of local craft #brewing.\" Founded by longtime friends, they strong",
      " https://t.co/Xv0zmi7eqj\n",
      "['beer']\n",
      "[0.052357063077795085, 0.082734865833696769, 0.084236327516989187, 0.10710789168418258, 0.36151292156948872]\n",
      "['independentbeer', 'beerbiz', 'brewery', 'craftbeer', 'beer']\n",
      "The concept of \"new\". The how and why to add guest #beers in your taproom. https://t.co/C3V5Jq8RWu #beerbiz https://t.co/UyBpZJHAQm\n",
      "['beer']\n",
      "[0.040638799877630909, 0.07198562410591057, 0.088620544177700239, 0.22936716349682712, 0.25338434480857774]\n",
      "['cbc17', 'craftbeer', 'independentbeer', 'beerbiz', 'beer']\n",
      "An awesome new benefit for all BA voting members! #beerbiz #independentbeer ? https://t.co/GJUKNLQ38r\n",
      "['beer']\n",
      "[0.04120301886664722, 0.051011745046894708, 0.065739412436205291, 0.14012790577866496, 0.37231671836907698]\n",
      "['cbc16', 'craftbeer', 'cbc17', 'beerbiz', 'beer']\n",
      "RT @LottePeplow: @BrewersAssoc will be at @craftbeerriseuk with a diverse, innovative range of top quality US craft beers,  most are unavai",
      "\n",
      "['beer']\n",
      "[0.060358910095521759, 0.07901324248014574, 0.088368872135255766, 0.16186345991778139, 0.30072398189404032]\n",
      "['brewery', 'independentbeer', 'craftbeer', 'beerbiz', 'beer']\n",
      "How can @craftbeerdotcom help promote your #brewery? https://t.co/OJCqwVdDHo\n",
      "['beer']\n",
      "[0.047005338923376862, 0.084971633087283283, 0.10085155022538668, 0.10600064593237174, 0.34621876614348318]\n",
      "['cbc17', 'brewery', 'beerbiz', 'craftbeer', 'beer']\n",
      "Methods for date lot coding your #brewery can use: https://t.co/t933nn2eQQ #beerbiz PC: @HenHouseBrewing https://t.co/fjpgwAVlmS\n",
      "['beer']\n",
      "[0.042445337246652406, 0.080799981279908034, 0.099499177636662148, 0.11347193961454737, 0.37305115349381551]\n",
      "['cbc17', 'craftbeer', 'independentbeer', 'beerbiz', 'beer']\n",
      "\"We believe the new [independent craft brewer seal] label will help craft brewers to hold their ground...\" via",
      " https://t.co/su1I4mMxig\n"
     ]
    }
   ],
   "source": [
    "from sklearn.svm import SVC\n",
    "clf = SVC(probability=True)\n",
    "clf.fit(X,y)\n",
    "print(clf.score(X,y))\n",
    "#print(clf.classes_)\n",
    "for x in [0,1,2,3,4,5,6,7]:\n",
    "    print(clf.predict([twtText.docVec[x]]))\n",
    "    print([clf.predict_proba([twtText.docVec[x]])[0][i] for i in np.argsort(clf.predict_proba([twtText.docVec[x]]))[0][-5:]])\n",
    "    print([clf.classes_[i] for i in np.argsort(clf.predict_proba([twtText.docVec[x]]))[0][-5:]])\n",
    "    #print(clf.predict_proba([twtText.docVec[x]]),twtText.text_y[x])\n",
    "    print(twtText.text_x[x])"
   ]
  },
  {
   "cell_type": "code",
   "execution_count": 87,
   "metadata": {},
   "outputs": [
    {
     "name": "stdout",
     "output_type": "stream",
     "text": [
      "0.850053937433\n",
      "['beerbiz']\n",
      "nan\n",
      "[0.06542820589448517, 0.07616197935637524, 0.082540453842614825, 0.16360615263669051, 0.25913916159407513]\n",
      "['cbc17', 'craftbeer', 'brewery', 'beer', 'beerbiz']\n",
      "~75% of the barley grown in the US is produced in 5 states, do you know which ones? https://t.co/fmISNP4twQ",
      " https://t.co/GFEvcO5Ayh\n",
      "['brewing']\n",
      "brewing\n",
      "[0.058806011219987304, 0.064795508527379683, 0.085187034185179561, 0.1097088115825496, 0.33269307109652124]\n",
      "['cbc16', 'craftbeer', 'beer', 'beerbiz', 'brewing']\n",
      "\"@CrystalLakeBrew represents the very definition of local craft #brewing.\" Founded by longtime friends, they strong",
      " https://t.co/Xv0zmi7eqj\n",
      "['beer']\n",
      "beers\n",
      "[0.087812864678528571, 0.092908446997775174, 0.096071778586327039, 0.20158357091974452, 0.28132387912124512]\n",
      "['craftbeer', 'brewery', 'beerbiz', 'beers', 'beer']\n",
      "The concept of \"new\". The how and why to add guest #beers in your taproom. https://t.co/C3V5Jq8RWu #beerbiz https://t.co/UyBpZJHAQm\n",
      "['beerbiz']\n",
      "beerbiz\n",
      "[0.033366418013624652, 0.049886707500032018, 0.066737483401268727, 0.17236580111363978, 0.48126855522298306]\n",
      "['cbc16', 'craftbeer', 'independentbeer', 'beer', 'beerbiz']\n",
      "An awesome new benefit for all BA voting members! #beerbiz #independentbeer ? https://t.co/GJUKNLQ38r\n",
      "['beer']\n",
      "nan\n",
      "[0.035771944779194279, 0.049563067922501078, 0.053589602963934252, 0.24064579737226172, 0.30056360345735478]\n",
      "['savor', 'cbc17', 'brewery', 'beerbiz', 'beer']\n",
      "RT @LottePeplow: @BrewersAssoc will be at @craftbeerriseuk with a diverse, innovative range of top quality US craft beers,  most are unavai",
      "\n",
      "['beer']\n",
      "brewery\n",
      "[0.048639571474841332, 0.09986390638359692, 0.12663018543143648, 0.15021477130025609, 0.33689974812496315]\n",
      "['independentbeer', 'craftbeer', 'beerbiz', 'brewery', 'beer']\n",
      "How can @craftbeerdotcom help promote your #brewery? https://t.co/OJCqwVdDHo\n",
      "['brewery']\n",
      "brewery\n",
      "[0.037523923726935388, 0.080293227922655724, 0.085744433997836447, 0.23628562142408388, 0.30534886834155306]\n",
      "['cbc16', 'beerbiz', 'craftbeer', 'beer', 'brewery']\n",
      "Methods for date lot coding your #brewery can use: https://t.co/t933nn2eQQ #beerbiz PC: @HenHouseBrewing https://t.co/fjpgwAVlmS\n",
      "['beer']\n",
      "nan\n",
      "[0.034628153157269789, 0.041667289635787412, 0.062994598231442572, 0.14023203327327846, 0.4864927475365855]\n",
      "['brewery', 'independentbeer', 'craftbeer', 'beerbiz', 'beer']\n",
      "\"We believe the new [independent craft brewer seal] label will help craft brewers to hold their ground...\" via",
      " https://t.co/su1I4mMxig\n"
     ]
    }
   ],
   "source": [
    "from sklearn.ensemble import RandomForestClassifier\n",
    "clf2 = RandomForestClassifier(max_depth=10,n_estimators=100,random_state=0, n_jobs=-1)\n",
    "clf2.fit(X,y)\n",
    "print(clf2.score(X,y))\n",
    "#print(clf2.feature_importances_)\n",
    "#print(clf.classes_)\n",
    "for x in [0,1,2,3,4,5,6,7]:\n",
    "    print(clf2.predict([twtText.docVec[x]]))\n",
    "    print(twtText.text_y[x])\n",
    "    print([clf2.predict_proba([twtText.docVec[x]])[0][i] for i in np.argsort(clf2.predict_proba([twtText.docVec[x]]))[0][-5:]])\n",
    "    print([clf2.classes_[i] for i in np.argsort(clf2.predict_proba([twtText.docVec[x]]))[0][-5:]])\n",
    "    #print(clf.predict_proba([twtText.docVec[x]]),twtText.text_y[x])\n",
    "    print(twtText.text_x[x])"
   ]
  },
  {
   "cell_type": "markdown",
   "metadata": {},
   "source": [
    "# Attempt at regression, there is low predictablity"
   ]
  },
  {
   "cell_type": "code",
   "execution_count": 33,
   "metadata": {},
   "outputs": [],
   "source": [
    "X = np.array(twtText['docVec'].tolist())\n"
   ]
  },
  {
   "cell_type": "markdown",
   "metadata": {},
   "source": [
    "#### Ridge Regression ($R^2$=3.2%)"
   ]
  },
  {
   "cell_type": "code",
   "execution_count": 34,
   "metadata": {},
   "outputs": [
    {
     "name": "stdout",
     "output_type": "stream",
     "text": [
      "163.752665033\n",
      "0.0318297309007\n"
     ]
    }
   ],
   "source": [
    "from sklearn import linear_model\n",
    "n_alphas = 500\n",
    "alph = np.logspace(.01, 100, n_alphas)\n",
    "#print(alph)\n",
    "reg = linear_model.RidgeCV(alphas=alph, store_cv_values=True)\n",
    "reg.fit(X, y)\n",
    "print(reg.alpha_)\n",
    "#print(reg.get_params())\n",
    "#print(reg.coef_)\n",
    "#print(reg.cv_values_)\n",
    "print(reg.score(X=np.array(twtText['docVec'].tolist()), y=twtText['retweet_count'].values))\n",
    "\n",
    "\n",
    "#coefs = []\n",
    "#for a in alph:\n",
    "#    ridge = linear_model.Ridge(alpha=a, fit_intercept=False)\n",
    "#    ridge.fit(X = np.array(twtText['docVec'].tolist()), y=twtText['retweet_count'].values)\n",
    "#    coefs.append(ridge.coef_)\n",
    "    \n",
    "# #############################################################################\n",
    "# Display results\n",
    "\n",
    "#ax = plt.gca()\n",
    "\n",
    "#ax.plot(alph, coefs)\n",
    "#ax.set_xscale('log')\n",
    "#ax.set_xlim(ax.get_xlim()[::-1])  # reverse axis\n",
    "#plt.xlabel('alpha', color='yellow')\n",
    "#plt.ylabel('weights', color='yellow')\n",
    "#plt.title('Ridge coefficients as a function of the regularization', color='yellow')\n",
    "#plt.axis('tight', color='yellow')\n",
    "#plt.tick_params(colors='yellow')\n",
    "#plt.show()"
   ]
  },
  {
   "cell_type": "code",
   "execution_count": 35,
   "metadata": {},
   "outputs": [
    {
     "name": "stdout",
     "output_type": "stream",
     "text": [
      "[ 9.42641859] 5\n",
      "[ 7.03437221] 3\n",
      "[ 5.7813788] 0\n"
     ]
    }
   ],
   "source": [
    "print(reg.predict([twtText.docVec[0]]),twtText.retweet_count[0])\n",
    "print(reg.predict([twtText.docVec[1]]),twtText.retweet_count[1])\n",
    "print(reg.predict([twtText.docVec[2]]),twtText.retweet_count[2])"
   ]
  },
  {
   "cell_type": "markdown",
   "metadata": {},
   "source": [
    "#### Lasso Regression ($R^2$=2.2%)"
   ]
  },
  {
   "cell_type": "code",
   "execution_count": 36,
   "metadata": {},
   "outputs": [
    {
     "name": "stdout",
     "output_type": "stream",
     "text": [
      "Computing regularization path using the coordinate descent lasso...\n"
     ]
    },
    {
     "name": "stderr",
     "output_type": "stream",
     "text": [
      "C:\\ProgramData\\Anaconda3\\lib\\site-packages\\sklearn\\linear_model\\coordinate_descent.py:491: ConvergenceWarning: Objective did not converge. You might want to increase the number of iterations. Fitting data with very small alpha may cause precision problems.\n",
      "  ConvergenceWarning)\n"
     ]
    },
    {
     "name": "stdout",
     "output_type": "stream",
     "text": [
      "0.0223040412678\n"
     ]
    },
    {
     "data": {
      "image/png": "[encoded data removed]",
      "text/plain": [
       "<matplotlib.figure.Figure at 0xc3ad208>"
      ]
     },
     "metadata": {},
     "output_type": "display_data"
    }
   ],
   "source": [
    "# #############################################################################\n",
    "# LassoCV: coordinate descent\n",
    "import time\n",
    "from sklearn.linear_model import LassoCV, LassoLarsCV, LassoLarsIC\n",
    "\n",
    "alph = np.logspace(-10, 10, n_alphas)\n",
    "#print(alph)\n",
    "# Compute paths\n",
    "print(\"Computing regularization path using the coordinate descent lasso...\")\n",
    "t1 = time.time()\n",
    "model = LassoCV(cv=20,alphas = alph).fit(X, y)\n",
    "t_lasso_cv = time.time() - t1\n",
    "print(model.score(X,y))\n",
    "\n",
    "# Display results\n",
    "m_log_alphas = -np.log10(model.alphas_)\n",
    "#print(m_log_alphas)\n",
    "\n",
    "plt.figure()\n",
    "#ymin, ymax = 2300, 3800\n",
    "plt.plot(m_log_alphas, model.mse_path_, ':')\n",
    "plt.plot(m_log_alphas, model.mse_path_.mean(axis=-1), 'k',\n",
    "         label='Average across the folds', linewidth=2)\n",
    "plt.axvline(-np.log10(model.alpha_), linestyle='--', color='k',\n",
    "            label='alpha: CV estimate')\n",
    "\n",
    "plt.legend()\n",
    "\n",
    "plt.xlabel('-log(alpha)', color = 'yellow')\n",
    "plt.ylabel('Mean square error', color = 'yellow')\n",
    "plt.title('Mean square error on each fold: coordinate descent '\n",
    "          '(train time: %.2fs)' % t_lasso_cv, color = 'yellow')\n",
    "plt.axis('tight')\n",
    "#plt.ylim(ymin, ymax)\n",
    "plt.tick_params(colors='yellow')\n",
    "plt.show()"
   ]
  },
  {
   "cell_type": "markdown",
   "metadata": {},
   "source": [
    "# Looks like we are not getting much for predictablilty, lets classify low(<3) medium(<=5) high(>5)"
   ]
  },
  {
   "cell_type": "code",
   "execution_count": 37,
   "metadata": {},
   "outputs": [
    {
     "data": {
      "text/html": [
       "<div>\n",
       "<style scoped>\n",
       "    .dataframe tbody tr th:only-of-type {\n",
       "        vertical-align: middle;\n",
       "    }\n",
       "\n",
       "    .dataframe tbody tr th {\n",
       "        vertical-align: top;\n",
       "    }\n",
       "\n",
       "    .dataframe thead th {\n",
       "        text-align: right;\n",
       "    }\n",
       "</style>\n",
       "<table border=\"1\" class=\"dataframe\">\n",
       "  <thead>\n",
       "    <tr style=\"text-align: right;\">\n",
       "      <th></th>\n",
       "      <th>id</th>\n",
       "      <th>text_x</th>\n",
       "      <th>truncated</th>\n",
       "      <th>retweet_count</th>\n",
       "      <th>tweet_id</th>\n",
       "      <th>text_y</th>\n",
       "      <th>start_y</th>\n",
       "      <th>end</th>\n",
       "      <th>parsedText</th>\n",
       "      <th>docVec</th>\n",
       "      <th>retweet_class</th>\n",
       "    </tr>\n",
       "  </thead>\n",
       "  <tbody>\n",
       "    <tr>\n",
       "      <th>0</th>\n",
       "      <td>961021728427298816</td>\n",
       "      <td>~75% of the barley grown in the US is produced...</td>\n",
       "      <td>True</td>\n",
       "      <td>5</td>\n",
       "      <td>NaN</td>\n",
       "      <td>NaN</td>\n",
       "      <td>NaN</td>\n",
       "      <td>NaN</td>\n",
       "      <td>75 of the barley grown in the US is produced i...</td>\n",
       "      <td>[0.396371, 0.38316, -0.72992, -0.243998, -0.24...</td>\n",
       "      <td>medium(&gt;=3,&lt;=5)</td>\n",
       "    </tr>\n",
       "    <tr>\n",
       "      <th>1</th>\n",
       "      <td>961000377490526209</td>\n",
       "      <td>\"@CrystalLakeBrew represents the very definiti...</td>\n",
       "      <td>True</td>\n",
       "      <td>3</td>\n",
       "      <td>9.610004e+17</td>\n",
       "      <td>brewing</td>\n",
       "      <td>64.0</td>\n",
       "      <td>72.0</td>\n",
       "      <td>represents the very definition of local craft ...</td>\n",
       "      <td>[0.148189, 0.259472, 0.139787, -0.00163876, -0...</td>\n",
       "      <td>medium(&gt;=3,&lt;=5)</td>\n",
       "    </tr>\n",
       "    <tr>\n",
       "      <th>2</th>\n",
       "      <td>960948770618912769</td>\n",
       "      <td>The concept of \"new\". The how and why to add g...</td>\n",
       "      <td>False</td>\n",
       "      <td>0</td>\n",
       "      <td>9.609488e+17</td>\n",
       "      <td>beers</td>\n",
       "      <td>51.0</td>\n",
       "      <td>57.0</td>\n",
       "      <td>The concept of new The how and why to add gues...</td>\n",
       "      <td>[0.226059, -0.0300769, 0.229013, -0.133485, 0....</td>\n",
       "      <td>low(&lt;3)</td>\n",
       "    </tr>\n",
       "    <tr>\n",
       "      <th>3</th>\n",
       "      <td>960897807581196288</td>\n",
       "      <td>An awesome new benefit for all BA voting membe...</td>\n",
       "      <td>False</td>\n",
       "      <td>0</td>\n",
       "      <td>9.608978e+17</td>\n",
       "      <td>beerbiz</td>\n",
       "      <td>50.0</td>\n",
       "      <td>58.0</td>\n",
       "      <td>An awesome new benefit for all BA voting members</td>\n",
       "      <td>[0.167138, -0.0332243, 0.0234007, -0.14369, 0....</td>\n",
       "      <td>low(&lt;3)</td>\n",
       "    </tr>\n",
       "    <tr>\n",
       "      <th>4</th>\n",
       "      <td>960895367813345280</td>\n",
       "      <td>RT @LottePeplow: @BrewersAssoc will be at @cra...</td>\n",
       "      <td>False</td>\n",
       "      <td>2</td>\n",
       "      <td>NaN</td>\n",
       "      <td>NaN</td>\n",
       "      <td>NaN</td>\n",
       "      <td>NaN</td>\n",
       "      <td>RT will be at with a diverse innovative range ...</td>\n",
       "      <td>[0.332563, 0.227647, -0.487932, 0.167555, 0.18...</td>\n",
       "      <td>low(&lt;3)</td>\n",
       "    </tr>\n",
       "  </tbody>\n",
       "</table>\n",
       "</div>"
      ],
      "text/plain": [
       "                   id                                             text_x  \\\n",
       "0  961021728427298816  ~75% of the barley grown in the US is produced...   \n",
       "1  961000377490526209  \"@CrystalLakeBrew represents the very definiti...   \n",
       "2  960948770618912769  The concept of \"new\". The how and why to add g...   \n",
       "3  960897807581196288  An awesome new benefit for all BA voting membe...   \n",
       "4  960895367813345280  RT @LottePeplow: @BrewersAssoc will be at @cra...   \n",
       "\n",
       "   truncated  retweet_count      tweet_id   text_y  start_y   end  \\\n",
       "0       True              5           NaN      NaN      NaN   NaN   \n",
       "1       True              3  9.610004e+17  brewing     64.0  72.0   \n",
       "2      False              0  9.609488e+17    beers     51.0  57.0   \n",
       "3      False              0  9.608978e+17  beerbiz     50.0  58.0   \n",
       "4      False              2           NaN      NaN      NaN   NaN   \n",
       "\n",
       "                                          parsedText  \\\n",
       "0  75 of the barley grown in the US is produced i...   \n",
       "1  represents the very definition of local craft ...   \n",
       "2  The concept of new The how and why to add gues...   \n",
       "3   An awesome new benefit for all BA voting members   \n",
       "4  RT will be at with a diverse innovative range ...   \n",
       "\n",
       "                                              docVec    retweet_class  \n",
       "0  [0.396371, 0.38316, -0.72992, -0.243998, -0.24...  medium(>=3,<=5)  \n",
       "1  [0.148189, 0.259472, 0.139787, -0.00163876, -0...  medium(>=3,<=5)  \n",
       "2  [0.226059, -0.0300769, 0.229013, -0.133485, 0....          low(<3)  \n",
       "3  [0.167138, -0.0332243, 0.0234007, -0.14369, 0....          low(<3)  \n",
       "4  [0.332563, 0.227647, -0.487932, 0.167555, 0.18...          low(<3)  "
      ]
     },
     "execution_count": 37,
     "metadata": {},
     "output_type": "execute_result"
    }
   ],
   "source": [
    "twtText['retweet_class'] = twtText.retweet_count.apply(lambda x: 'low(<3)' if x<3 else 'medium(>=3,<=5)' if x<=5 else 'high(>5)' )\n",
    "twtText.head()"
   ]
  },
  {
   "cell_type": "code",
   "execution_count": 38,
   "metadata": {},
   "outputs": [],
   "source": [
    "y = twtText['retweet_class'].values"
   ]
  },
  {
   "cell_type": "code",
   "execution_count": 39,
   "metadata": {},
   "outputs": [
    {
     "name": "stdout",
     "output_type": "stream",
     "text": [
      "['high(>5)' 'low(<3)' 'medium(>=3,<=5)']\n",
      "['high(>5)'] [[ 0.45116468  0.22350865  0.32532667]] medium(>=3,<=5)\n",
      "['high(>5)'] [[ 0.39826551  0.31521527  0.28651922]] medium(>=3,<=5)\n",
      "['medium(>=3,<=5)'] [[ 0.28973155  0.33494245  0.375326  ]] low(<3)\n",
      "['high(>5)'] [[ 0.30899809  0.3691094   0.32189251]] low(<3)\n",
      "['high(>5)'] [[ 0.37623731  0.28558119  0.3381815 ]] low(<3)\n",
      "['high(>5)'] [[ 0.38933068  0.33982553  0.27084379]] medium(>=3,<=5)\n",
      "['high(>5)'] [[ 0.37631359  0.29787171  0.32581469]] medium(>=3,<=5)\n",
      "['high(>5)'] [[ 0.38275924  0.36287998  0.25436078]] medium(>=3,<=5)\n"
     ]
    }
   ],
   "source": [
    "from sklearn.svm import SVC\n",
    "clf = SVC(probability=True)\n",
    "clf.fit(X,y)\n",
    "clf.score(X,y)\n",
    "print(clf.classes_)\n",
    "for x in [0,1,2,3,4,5,6,7]:\n",
    "    print(clf.predict([twtText.docVec[x]]),clf.predict_proba([twtText.docVec[x]]),twtText.retweet_class[x])\n"
   ]
  },
  {
   "cell_type": "markdown",
   "metadata": {},
   "source": [
    "# Run Similarities"
   ]
  },
  {
   "cell_type": "code",
   "execution_count": 13,
   "metadata": {},
   "outputs": [],
   "source": [
    "ranks = []\n",
    "second_ranks = []\n",
    "for doc_id in range(len(test)):\n",
    "    inferred_vector = model.infer_vector(test[doc_id].words)\n",
    "    sims = model.docvecs.most_similar([inferred_vector], topn=len(model.docvecs))\n",
    "    rank = [docid for docid, sim in sims]\n",
    "    ranks.append(rank)\n",
    "    \n",
    "    second_ranks.append(sims[1])"
   ]
  },
  {
   "cell_type": "code",
   "execution_count": 14,
   "metadata": {},
   "outputs": [
    {
     "data": {
      "text/plain": [
       "[456, 354, 628, 1472, 152, 1293, 133, 0, 911, 573]"
      ]
     },
     "execution_count": 14,
     "metadata": {},
     "output_type": "execute_result"
    }
   ],
   "source": [
    "ranks[0][0:10]"
   ]
  },
  {
   "cell_type": "code",
   "execution_count": 15,
   "metadata": {},
   "outputs": [
    {
     "name": "stdout",
     "output_type": "stream",
     "text": [
      "Train Document (0): «~75% of the barley grown in the US is produced in 5 states, do you know which ones? »\n",
      "\n",
      "Similar Document (354, 0.7506328225135803): «Which 5 states produce ~75% of the barley grown in the US?  #beerbiz »\n",
      "\n",
      "Train Document (152): «5 states produce ~75% of the barley grown in the US, do you know which ones? »\n",
      "\n",
      "Similar Document (1472, 0.7079355716705322): «How many of the Top 50 breweries have you visited? - »\n",
      "\n",
      "Train Document (269): «5 states produce ~75% of the barley grown in the US, do you know which ones? #beerbiz #craftbeer",
      " »\n",
      "\n",
      "Similar Document (152, 0.6305805444717407): «5 states produce ~75% of the barley grown in the US, do you know which ones? »\n",
      "\n",
      "Train Document (15): «Cans and bottles, craft #brewery packaging trends in 2017. »\n",
      "\n",
      "Similar Document (2619, 0.47364863753318787): «#SAVOR Week Events kick off today! Check out the tap room takeovers, happy hours, parties and delicious #craftbeer! »\n",
      "\n",
      "Train Document (1905): «Looking to start a career in the brewing industry? Check out the Brewing Schools page on »\n",
      "\n",
      "Similar Document (420, 0.7853606939315796): «Looking for a #brewery near you? Check out our »\n",
      "\n",
      "Train Document (2200): «Looking to start a career in the brewing industry? Check out the Brewing Schools page on »\n",
      "\n",
      "Similar Document (1522, 0.7261821031570435): «Looking to start a career in the brewing industry? Check out the Brewing Schools page on »\n",
      "\n",
      "Train Document (2072): «Looking to start a career in the brewing industry? Check out the Brewing Schools page on »\n",
      "\n",
      "Similar Document (1846, 0.6764233112335205): «Looking to start a career in the brewing industry? Check out the Brewing Schools page on »\n",
      "\n",
      "Train Document (2288): «Looking to start a career in the brewing industry? Check out the Brewing Schools page on »\n",
      "\n",
      "Similar Document (1905, 0.6861441135406494): «Looking to start a career in the brewing industry? Check out the Brewing Schools page on »\n",
      "\n",
      "Train Document (140): «Keep your #beer \"brewery fresh\" with this guide to quality #craftbeer. »\n",
      "\n",
      "Similar Document (140, 0.7722629308700562): «Keep your #beer \"brewery fresh\" with this guide to quality #craftbeer. »\n",
      "\n",
      "Train Document (2006): «Looking to start a career in the brewing industry? Check out the Brewing Schools page on »\n",
      "\n",
      "Similar Document (502, 0.6744524836540222): «Looking for a #brewery near you? Check out our »\n",
      "\n"
     ]
    }
   ],
   "source": [
    "ids = [0, 152, 269, 15, 1905, 2200, 2072, 2288, 140, 2006]\n",
    "for doc_id in ids:\n",
    "    print('Train Document ({}): «{}»\\n'.format(doc_id, ''.join(test[doc_id].words)))\n",
    "    sim_id = second_ranks[doc_id]\n",
    "    print('Similar Document {}: «{}»\\n'.format(sim_id, ''.join(test[sim_id[0]].words)))"
   ]
  },
  {
   "cell_type": "code",
   "execution_count": null,
   "metadata": {},
   "outputs": [],
   "source": []
  }
 ],
 "metadata": {
  "kernelspec": {
   "display_name": "Python 3",
   "language": "python",
   "name": "python3"
  },
  "language_info": {
   "codemirror_mode": {
    "name": "ipython",
    "version": 3
   },
   "file_extension": ".py",
   "mimetype": "text/x-python",
   "name": "python",
   "nbconvert_exporter": "python",
   "pygments_lexer": "ipython3",
   "version": "3.6.0"
  }
 },
 "nbformat": 4,
 "nbformat_minor": 2
}
