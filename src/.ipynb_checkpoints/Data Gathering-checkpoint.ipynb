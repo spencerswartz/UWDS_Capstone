{
 "cells": [
  {
   "cell_type": "markdown",
   "metadata": {},
   "source": [
    "# Connect with Twitter API\n",
    "#### python sdk can be found @ http://tweepy.readthedocs.io/en/v3.5.0/"
   ]
  },
  {
   "cell_type": "code",
   "execution_count": 65,
   "metadata": {
    "collapsed": false
   },
   "outputs": [
    {
     "data": {
      "text/plain": [
       "'0.19.2'"
      ]
     },
     "execution_count": 65,
     "metadata": {},
     "output_type": "execute_result"
    }
   ],
   "source": [
    "import tweepy\n",
    "import pandas as pd\n",
    "pd.__version__"
   ]
  },
  {
   "cell_type": "markdown",
   "metadata": {},
   "source": [
    "Must connect with keys\n",
    "\n",
    "This cell does just that and then gathers roughly 3200 of the most recent tweets from the handels in the list handels.\n",
    "It then converts them to a pandas dataframe with may of the columns still needing to be parsed.\n",
    "The dataframe is then saved in csv form to the data folder."
   ]
  },
  {
   "cell_type": "code",
   "execution_count": 80,
   "metadata": {
    "collapsed": false
   },
   "outputs": [
    {
     "name": "stdout",
     "output_type": "stream",
     "text": [
      "3200\n",
      "3212\n",
      "3249\n"
     ]
    }
   ],
   "source": [
    "auth = tweepy.OAuthHandler('sXlKPefbD9K1x17bioH0wSsNz', 'JrDdo9VmIwL4sGa01nRtKtZrvt207PcU6j5e1NVqABdH9ueSml')\n",
    "auth.set_access_token('392450969-taSU6GLnEdnwdJmnKtjAAsqbvLhg046Tb3o3K866', 'p7eIdYjqR8kkSmjEOI6zLZpply54dyEBQxgH8jDinapoA')\n",
    "\n",
    "api = tweepy.API(auth)\n",
    "\n",
    "public_tweets = api.user_timeline(id='BrewersAssoc')\n",
    "\n",
    "handels = ['BrewersAssoc','HomebrewAssoc','craftbeerdotcom']\n",
    "variables = locals()\n",
    "for i in handels:\n",
    "    count=0\n",
    "    pd1=pd.DataFrame()\n",
    "    for tweet in tweepy.Cursor(api.user_timeline, id=i).items():\n",
    "        pd2 = pd.DataFrame.from_dict(tweet._json, orient='index').transpose()\n",
    "        pd1 = pd.concat([pd1,pd2])\n",
    "        count+=1\n",
    "    print(count)\n",
    "    variables[\"df{0}\".format(i)] = pd1\n",
    "    variables[\"df{0}\".format(i)].to_csv(path_or_buf='../Data/{0}.csv'.format(i))\n"
   ]
  },
  {
   "cell_type": "code",
   "execution_count": 81,
   "metadata": {
    "collapsed": false
   },
   "outputs": [
    {
     "data": {
      "text/html": [
       "<div>\n",
       "<table border=\"1\" class=\"dataframe\">\n",
       "  <thead>\n",
       "    <tr style=\"text-align: right;\">\n",
       "      <th></th>\n",
       "      <th>contributors</th>\n",
       "      <th>coordinates</th>\n",
       "      <th>created_at</th>\n",
       "      <th>entities</th>\n",
       "      <th>extended_entities</th>\n",
       "      <th>favorite_count</th>\n",
       "      <th>favorited</th>\n",
       "      <th>geo</th>\n",
       "      <th>id</th>\n",
       "      <th>id_str</th>\n",
       "      <th>...</th>\n",
       "      <th>quoted_status</th>\n",
       "      <th>quoted_status_id</th>\n",
       "      <th>quoted_status_id_str</th>\n",
       "      <th>retweet_count</th>\n",
       "      <th>retweeted</th>\n",
       "      <th>retweeted_status</th>\n",
       "      <th>source</th>\n",
       "      <th>text</th>\n",
       "      <th>truncated</th>\n",
       "      <th>user</th>\n",
       "    </tr>\n",
       "  </thead>\n",
       "  <tbody>\n",
       "    <tr>\n",
       "      <th>0</th>\n",
       "      <td>None</td>\n",
       "      <td>None</td>\n",
       "      <td>Tue Feb 06 23:40:09 +0000 2018</td>\n",
       "      <td>{'hashtags': [], 'symbols': [], 'user_mentions...</td>\n",
       "      <td>NaN</td>\n",
       "      <td>5</td>\n",
       "      <td>False</td>\n",
       "      <td>None</td>\n",
       "      <td>961021728427298816</td>\n",
       "      <td>961021728427298816</td>\n",
       "      <td>...</td>\n",
       "      <td>NaN</td>\n",
       "      <td>NaN</td>\n",
       "      <td>NaN</td>\n",
       "      <td>5</td>\n",
       "      <td>False</td>\n",
       "      <td>NaN</td>\n",
       "      <td>&lt;a href=\"http://www.hootsuite.com\" rel=\"nofoll...</td>\n",
       "      <td>~75% of the barley grown in the US is produced...</td>\n",
       "      <td>True</td>\n",
       "      <td>{'id': 69625014, 'id_str': '69625014', 'name':...</td>\n",
       "    </tr>\n",
       "    <tr>\n",
       "      <th>0</th>\n",
       "      <td>None</td>\n",
       "      <td>None</td>\n",
       "      <td>Tue Feb 06 22:15:19 +0000 2018</td>\n",
       "      <td>{'hashtags': [{'text': 'brewing', 'indices': [...</td>\n",
       "      <td>NaN</td>\n",
       "      <td>8</td>\n",
       "      <td>False</td>\n",
       "      <td>None</td>\n",
       "      <td>961000377490526209</td>\n",
       "      <td>961000377490526209</td>\n",
       "      <td>...</td>\n",
       "      <td>NaN</td>\n",
       "      <td>NaN</td>\n",
       "      <td>NaN</td>\n",
       "      <td>3</td>\n",
       "      <td>False</td>\n",
       "      <td>NaN</td>\n",
       "      <td>&lt;a href=\"http://www.hootsuite.com\" rel=\"nofoll...</td>\n",
       "      <td>\"@CrystalLakeBrew represents the very definiti...</td>\n",
       "      <td>True</td>\n",
       "      <td>{'id': 69625014, 'id_str': '69625014', 'name':...</td>\n",
       "    </tr>\n",
       "    <tr>\n",
       "      <th>0</th>\n",
       "      <td>None</td>\n",
       "      <td>None</td>\n",
       "      <td>Tue Feb 06 18:50:15 +0000 2018</td>\n",
       "      <td>{'hashtags': [{'text': 'beers', 'indices': [51...</td>\n",
       "      <td>{'media': [{'id': 960948767502602243, 'id_str'...</td>\n",
       "      <td>7</td>\n",
       "      <td>False</td>\n",
       "      <td>None</td>\n",
       "      <td>960948770618912769</td>\n",
       "      <td>960948770618912769</td>\n",
       "      <td>...</td>\n",
       "      <td>NaN</td>\n",
       "      <td>NaN</td>\n",
       "      <td>NaN</td>\n",
       "      <td>0</td>\n",
       "      <td>False</td>\n",
       "      <td>NaN</td>\n",
       "      <td>&lt;a href=\"http://www.hootsuite.com\" rel=\"nofoll...</td>\n",
       "      <td>The concept of \"new\". The how and why to add g...</td>\n",
       "      <td>False</td>\n",
       "      <td>{'id': 69625014, 'id_str': '69625014', 'name':...</td>\n",
       "    </tr>\n",
       "    <tr>\n",
       "      <th>0</th>\n",
       "      <td>None</td>\n",
       "      <td>None</td>\n",
       "      <td>Tue Feb 06 15:27:44 +0000 2018</td>\n",
       "      <td>{'hashtags': [{'text': 'beerbiz', 'indices': [...</td>\n",
       "      <td>NaN</td>\n",
       "      <td>1</td>\n",
       "      <td>False</td>\n",
       "      <td>None</td>\n",
       "      <td>960897807581196288</td>\n",
       "      <td>960897807581196288</td>\n",
       "      <td>...</td>\n",
       "      <td>{'created_at': 'Mon Feb 05 18:14:01 +0000 2018...</td>\n",
       "      <td>960577264156102656</td>\n",
       "      <td>960577264156102656</td>\n",
       "      <td>0</td>\n",
       "      <td>False</td>\n",
       "      <td>NaN</td>\n",
       "      <td>&lt;a href=\"http://twitter.com\" rel=\"nofollow\"&gt;Tw...</td>\n",
       "      <td>An awesome new benefit for all BA voting membe...</td>\n",
       "      <td>False</td>\n",
       "      <td>{'id': 69625014, 'id_str': '69625014', 'name':...</td>\n",
       "    </tr>\n",
       "    <tr>\n",
       "      <th>0</th>\n",
       "      <td>None</td>\n",
       "      <td>None</td>\n",
       "      <td>Tue Feb 06 15:18:02 +0000 2018</td>\n",
       "      <td>{'hashtags': [], 'symbols': [], 'user_mentions...</td>\n",
       "      <td>NaN</td>\n",
       "      <td>0</td>\n",
       "      <td>False</td>\n",
       "      <td>None</td>\n",
       "      <td>960895367813345280</td>\n",
       "      <td>960895367813345280</td>\n",
       "      <td>...</td>\n",
       "      <td>NaN</td>\n",
       "      <td>NaN</td>\n",
       "      <td>NaN</td>\n",
       "      <td>2</td>\n",
       "      <td>False</td>\n",
       "      <td>{'created_at': 'Tue Feb 06 09:51:21 +0000 2018...</td>\n",
       "      <td>&lt;a href=\"http://twitter.com\" rel=\"nofollow\"&gt;Tw...</td>\n",
       "      <td>RT @LottePeplow: @BrewersAssoc will be at @cra...</td>\n",
       "      <td>False</td>\n",
       "      <td>{'id': 69625014, 'id_str': '69625014', 'name':...</td>\n",
       "    </tr>\n",
       "  </tbody>\n",
       "</table>\n",
       "<p>5 rows × 29 columns</p>\n",
       "</div>"
      ],
      "text/plain": [
       "  contributors coordinates                      created_at  \\\n",
       "0         None        None  Tue Feb 06 23:40:09 +0000 2018   \n",
       "0         None        None  Tue Feb 06 22:15:19 +0000 2018   \n",
       "0         None        None  Tue Feb 06 18:50:15 +0000 2018   \n",
       "0         None        None  Tue Feb 06 15:27:44 +0000 2018   \n",
       "0         None        None  Tue Feb 06 15:18:02 +0000 2018   \n",
       "\n",
       "                                            entities  \\\n",
       "0  {'hashtags': [], 'symbols': [], 'user_mentions...   \n",
       "0  {'hashtags': [{'text': 'brewing', 'indices': [...   \n",
       "0  {'hashtags': [{'text': 'beers', 'indices': [51...   \n",
       "0  {'hashtags': [{'text': 'beerbiz', 'indices': [...   \n",
       "0  {'hashtags': [], 'symbols': [], 'user_mentions...   \n",
       "\n",
       "                                   extended_entities favorite_count favorited  \\\n",
       "0                                                NaN              5     False   \n",
       "0                                                NaN              8     False   \n",
       "0  {'media': [{'id': 960948767502602243, 'id_str'...              7     False   \n",
       "0                                                NaN              1     False   \n",
       "0                                                NaN              0     False   \n",
       "\n",
       "    geo                  id              id_str  \\\n",
       "0  None  961021728427298816  961021728427298816   \n",
       "0  None  961000377490526209  961000377490526209   \n",
       "0  None  960948770618912769  960948770618912769   \n",
       "0  None  960897807581196288  960897807581196288   \n",
       "0  None  960895367813345280  960895367813345280   \n",
       "\n",
       "                         ...                          \\\n",
       "0                        ...                           \n",
       "0                        ...                           \n",
       "0                        ...                           \n",
       "0                        ...                           \n",
       "0                        ...                           \n",
       "\n",
       "                                       quoted_status    quoted_status_id  \\\n",
       "0                                                NaN                 NaN   \n",
       "0                                                NaN                 NaN   \n",
       "0                                                NaN                 NaN   \n",
       "0  {'created_at': 'Mon Feb 05 18:14:01 +0000 2018...  960577264156102656   \n",
       "0                                                NaN                 NaN   \n",
       "\n",
       "  quoted_status_id_str retweet_count retweeted  \\\n",
       "0                  NaN             5     False   \n",
       "0                  NaN             3     False   \n",
       "0                  NaN             0     False   \n",
       "0   960577264156102656             0     False   \n",
       "0                  NaN             2     False   \n",
       "\n",
       "                                    retweeted_status  \\\n",
       "0                                                NaN   \n",
       "0                                                NaN   \n",
       "0                                                NaN   \n",
       "0                                                NaN   \n",
       "0  {'created_at': 'Tue Feb 06 09:51:21 +0000 2018...   \n",
       "\n",
       "                                              source  \\\n",
       "0  <a href=\"http://www.hootsuite.com\" rel=\"nofoll...   \n",
       "0  <a href=\"http://www.hootsuite.com\" rel=\"nofoll...   \n",
       "0  <a href=\"http://www.hootsuite.com\" rel=\"nofoll...   \n",
       "0  <a href=\"http://twitter.com\" rel=\"nofollow\">Tw...   \n",
       "0  <a href=\"http://twitter.com\" rel=\"nofollow\">Tw...   \n",
       "\n",
       "                                                text truncated  \\\n",
       "0  ~75% of the barley grown in the US is produced...      True   \n",
       "0  \"@CrystalLakeBrew represents the very definiti...      True   \n",
       "0  The concept of \"new\". The how and why to add g...     False   \n",
       "0  An awesome new benefit for all BA voting membe...     False   \n",
       "0  RT @LottePeplow: @BrewersAssoc will be at @cra...     False   \n",
       "\n",
       "                                                user  \n",
       "0  {'id': 69625014, 'id_str': '69625014', 'name':...  \n",
       "0  {'id': 69625014, 'id_str': '69625014', 'name':...  \n",
       "0  {'id': 69625014, 'id_str': '69625014', 'name':...  \n",
       "0  {'id': 69625014, 'id_str': '69625014', 'name':...  \n",
       "0  {'id': 69625014, 'id_str': '69625014', 'name':...  \n",
       "\n",
       "[5 rows x 29 columns]"
      ]
     },
     "execution_count": 81,
     "metadata": {},
     "output_type": "execute_result"
    }
   ],
   "source": [
    "dfBrewersAssoc.head()"
   ]
  },
  {
   "cell_type": "code",
   "execution_count": null,
   "metadata": {
    "collapsed": false
   },
   "outputs": [],
   "source": []
  },
  {
   "cell_type": "code",
   "execution_count": null,
   "metadata": {
    "collapsed": false
   },
   "outputs": [],
   "source": []
  },
  {
   "cell_type": "code",
   "execution_count": null,
   "metadata": {
    "collapsed": false
   },
   "outputs": [],
   "source": []
  },
  {
   "cell_type": "code",
   "execution_count": null,
   "metadata": {
    "collapsed": false
   },
   "outputs": [],
   "source": []
  },
  {
   "cell_type": "code",
   "execution_count": null,
   "metadata": {
    "collapsed": false
   },
   "outputs": [],
   "source": []
  },
  {
   "cell_type": "code",
   "execution_count": null,
   "metadata": {
    "collapsed": false
   },
   "outputs": [],
   "source": []
  },
  {
   "cell_type": "code",
   "execution_count": null,
   "metadata": {
    "collapsed": true
   },
   "outputs": [],
   "source": []
  },
  {
   "cell_type": "code",
   "execution_count": null,
   "metadata": {
    "collapsed": false
   },
   "outputs": [],
   "source": []
  },
  {
   "cell_type": "code",
   "execution_count": null,
   "metadata": {
    "collapsed": true
   },
   "outputs": [],
   "source": []
  }
 ],
 "metadata": {
  "kernelspec": {
   "display_name": "Python 3",
   "language": "python",
   "name": "python3"
  },
  "language_info": {
   "codemirror_mode": {
    "name": "ipython",
    "version": 3
   },
   "file_extension": ".py",
   "mimetype": "text/x-python",
   "name": "python",
   "nbconvert_exporter": "python",
   "pygments_lexer": "ipython3",
   "version": "3.6.0"
  }
 },
 "nbformat": 4,
 "nbformat_minor": 2
}
