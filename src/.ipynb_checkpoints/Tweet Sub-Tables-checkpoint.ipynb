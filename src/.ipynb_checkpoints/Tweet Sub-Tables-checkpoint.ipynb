{
 "cells": [
  {
   "cell_type": "markdown",
   "metadata": {},
   "source": [
    "# create sub tables for entities\n",
    "do not worrie about extended_entities as its values are within entities (seems to be specific to photos)"
   ]
  },
  {
   "cell_type": "code",
   "execution_count": 2,
   "metadata": {
    "collapsed": false
   },
   "outputs": [
    {
     "data": {
      "text/plain": [
       "'0.20.3'"
      ]
     },
     "execution_count": 2,
     "metadata": {},
     "output_type": "execute_result"
    }
   ],
   "source": [
    "import glob\n",
    "import pandas as pd\n",
    "pd.__version__"
   ]
  },
  {
   "cell_type": "code",
   "execution_count": 21,
   "metadata": {
    "collapsed": false
   },
   "outputs": [],
   "source": [
    "df = pd.read_csv(filepath_or_buffer='../data/BrewersAssoc.csv', encoding='latin')\n",
    "df2 = pd.read_csv(filepath_or_buffer='../data/craftbeerdotcom.csv', encoding='latin')\n",
    "df3 = pd.read_csv(filepath_or_buffer='../data/HomebrewAssoc.csv', encoding='latin')\n",
    "dfs = [df, df2, df3]\n",
    "comb = pd.concat(dfs)\n"
   ]
  },
  {
   "cell_type": "code",
   "execution_count": 22,
   "metadata": {
    "collapsed": false
   },
   "outputs": [
    {
     "data": {
      "text/html": [
       "<div>\n",
       "<style>\n",
       "    .dataframe thead tr:only-child th {\n",
       "        text-align: right;\n",
       "    }\n",
       "\n",
       "    .dataframe thead th {\n",
       "        text-align: left;\n",
       "    }\n",
       "\n",
       "    .dataframe tbody tr th {\n",
       "        vertical-align: top;\n",
       "    }\n",
       "</style>\n",
       "<table border=\"1\" class=\"dataframe\">\n",
       "  <thead>\n",
       "    <tr style=\"text-align: right;\">\n",
       "      <th></th>\n",
       "      <th>hashtags</th>\n",
       "      <th>media</th>\n",
       "      <th>symbols</th>\n",
       "      <th>urls</th>\n",
       "      <th>user_mentions</th>\n",
       "      <th>tweet_id</th>\n",
       "    </tr>\n",
       "  </thead>\n",
       "  <tbody>\n",
       "    <tr>\n",
       "      <th>0</th>\n",
       "      <td>[]</td>\n",
       "      <td>NaN</td>\n",
       "      <td>[]</td>\n",
       "      <td>[{'url': 'https://t.co/fmISNP4twQ', 'expanded_...</td>\n",
       "      <td>[]</td>\n",
       "      <td>961021728427298816</td>\n",
       "    </tr>\n",
       "    <tr>\n",
       "      <th>1</th>\n",
       "      <td>[{'text': 'brewing', 'indices': [64, 72]}]</td>\n",
       "      <td>NaN</td>\n",
       "      <td>[]</td>\n",
       "      <td>[{'url': 'https://t.co/Xv0zmi7eqj', 'expanded_...</td>\n",
       "      <td>[{'screen_name': 'CrystalLakeBrew', 'name': 'C...</td>\n",
       "      <td>961000377490526209</td>\n",
       "    </tr>\n",
       "    <tr>\n",
       "      <th>2</th>\n",
       "      <td>[{'text': 'beers', 'indices': [51, 57]}, {'tex...</td>\n",
       "      <td>[{'id': 960948767502602243, 'id_str': '9609487...</td>\n",
       "      <td>[]</td>\n",
       "      <td>[{'url': 'https://t.co/C3V5Jq8RWu', 'expanded_...</td>\n",
       "      <td>[]</td>\n",
       "      <td>960948770618912769</td>\n",
       "    </tr>\n",
       "    <tr>\n",
       "      <th>3</th>\n",
       "      <td>[{'text': 'beerbiz', 'indices': [50, 58]}, {'t...</td>\n",
       "      <td>NaN</td>\n",
       "      <td>[]</td>\n",
       "      <td>[{'url': 'https://t.co/GJUKNLQ38r', 'expanded_...</td>\n",
       "      <td>[]</td>\n",
       "      <td>960897807581196288</td>\n",
       "    </tr>\n",
       "    <tr>\n",
       "      <th>4</th>\n",
       "      <td>[]</td>\n",
       "      <td>NaN</td>\n",
       "      <td>[]</td>\n",
       "      <td>[]</td>\n",
       "      <td>[{'screen_name': 'LottePeplow', 'name': 'Hoppy...</td>\n",
       "      <td>960895367813345280</td>\n",
       "    </tr>\n",
       "  </tbody>\n",
       "</table>\n",
       "</div>"
      ],
      "text/plain": [
       "                                            hashtags  \\\n",
       "0                                                 []   \n",
       "1         [{'text': 'brewing', 'indices': [64, 72]}]   \n",
       "2  [{'text': 'beers', 'indices': [51, 57]}, {'tex...   \n",
       "3  [{'text': 'beerbiz', 'indices': [50, 58]}, {'t...   \n",
       "4                                                 []   \n",
       "\n",
       "                                               media symbols  \\\n",
       "0                                                NaN      []   \n",
       "1                                                NaN      []   \n",
       "2  [{'id': 960948767502602243, 'id_str': '9609487...      []   \n",
       "3                                                NaN      []   \n",
       "4                                                NaN      []   \n",
       "\n",
       "                                                urls  \\\n",
       "0  [{'url': 'https://t.co/fmISNP4twQ', 'expanded_...   \n",
       "1  [{'url': 'https://t.co/Xv0zmi7eqj', 'expanded_...   \n",
       "2  [{'url': 'https://t.co/C3V5Jq8RWu', 'expanded_...   \n",
       "3  [{'url': 'https://t.co/GJUKNLQ38r', 'expanded_...   \n",
       "4                                                 []   \n",
       "\n",
       "                                       user_mentions            tweet_id  \n",
       "0                                                 []  961021728427298816  \n",
       "1  [{'screen_name': 'CrystalLakeBrew', 'name': 'C...  961000377490526209  \n",
       "2                                                 []  960948770618912769  \n",
       "3                                                 []  960897807581196288  \n",
       "4  [{'screen_name': 'LottePeplow', 'name': 'Hoppy...  960895367813345280  "
      ]
     },
     "execution_count": 22,
     "metadata": {},
     "output_type": "execute_result"
    }
   ],
   "source": [
    "import ast\n",
    "comb.entities = comb.entities.apply(lambda x: ast.literal_eval(x))\n",
    "entitiesDf = comb.entities.apply(pd.Series)\n",
    "entitiesDf['tweet_id'] = df.id.astype('str')\n",
    "entitiesDf.head()"
   ]
  },
  {
   "cell_type": "code",
   "execution_count": 23,
   "metadata": {
    "collapsed": false
   },
   "outputs": [
    {
     "data": {
      "text/html": [
       "<div>\n",
       "<style>\n",
       "    .dataframe thead tr:only-child th {\n",
       "        text-align: right;\n",
       "    }\n",
       "\n",
       "    .dataframe thead th {\n",
       "        text-align: left;\n",
       "    }\n",
       "\n",
       "    .dataframe tbody tr th {\n",
       "        vertical-align: top;\n",
       "    }\n",
       "</style>\n",
       "<table border=\"1\" class=\"dataframe\">\n",
       "  <thead>\n",
       "    <tr style=\"text-align: right;\">\n",
       "      <th></th>\n",
       "      <th>indices</th>\n",
       "      <th>text</th>\n",
       "      <th>tweet_id</th>\n",
       "    </tr>\n",
       "  </thead>\n",
       "  <tbody>\n",
       "    <tr>\n",
       "      <th>0</th>\n",
       "      <td>[64, 72]</td>\n",
       "      <td>brewing</td>\n",
       "      <td>961000377490526209</td>\n",
       "    </tr>\n",
       "    <tr>\n",
       "      <th>1</th>\n",
       "      <td>[51, 57]</td>\n",
       "      <td>beers</td>\n",
       "      <td>960948770618912769</td>\n",
       "    </tr>\n",
       "    <tr>\n",
       "      <th>2</th>\n",
       "      <td>[99, 107]</td>\n",
       "      <td>beerbiz</td>\n",
       "      <td>960948770618912769</td>\n",
       "    </tr>\n",
       "    <tr>\n",
       "      <th>3</th>\n",
       "      <td>[50, 58]</td>\n",
       "      <td>beerbiz</td>\n",
       "      <td>960897807581196288</td>\n",
       "    </tr>\n",
       "    <tr>\n",
       "      <th>4</th>\n",
       "      <td>[59, 75]</td>\n",
       "      <td>independentbeer</td>\n",
       "      <td>960897807581196288</td>\n",
       "    </tr>\n",
       "  </tbody>\n",
       "</table>\n",
       "</div>"
      ],
      "text/plain": [
       "     indices             text            tweet_id\n",
       "0   [64, 72]          brewing  961000377490526209\n",
       "1   [51, 57]            beers  960948770618912769\n",
       "2  [99, 107]          beerbiz  960948770618912769\n",
       "3   [50, 58]          beerbiz  960897807581196288\n",
       "4   [59, 75]  independentbeer  960897807581196288"
      ]
     },
     "execution_count": 23,
     "metadata": {},
     "output_type": "execute_result"
    }
   ],
   "source": [
    "hashtagDf = entitiesDf.hashtags.apply(pd.Series)\n",
    "hashtagDf.index = entitiesDf['tweet_id']\n",
    "hashtagDf = hashtagDf.stack().to_frame()\n",
    "hashtagDf = hashtagDf.reset_index()\n",
    "sub = hashtagDf[0].apply(pd.Series)\n",
    "sub['tweet_id'] = hashtagDf['tweet_id']\n",
    "sub.head()"
   ]
  },
  {
   "cell_type": "code",
   "execution_count": 25,
   "metadata": {
    "collapsed": false
   },
   "outputs": [],
   "source": [
    "variables = locals()\n",
    "for i in range(0,len(entitiesDf.dtypes)):\n",
    "    if entitiesDf.dtypes[i]=='object':\n",
    "        mid = entitiesDf[entitiesDf.columns.tolist()[i]].apply(pd.Series)\n",
    "        mid.index = entitiesDf['tweet_id']\n",
    "        mid = mid.stack().to_frame()\n",
    "        mid = mid.reset_index()\n",
    "        sub = mid[0].apply(pd.Series)\n",
    "        sub['tweet_id'] = mid['tweet_id']\n",
    "        variables[\"{0}Df\".format(entitiesDf.columns.tolist()[i])] = sub\n",
    "        variables[\"{0}Df\".format(entitiesDf.columns.tolist()[i])].to_csv('../Data/{0}.csv'.format(entitiesDf.columns.tolist()[i]),\n",
    "                                                                         index=False)"
   ]
  },
  {
   "cell_type": "code",
   "execution_count": 11,
   "metadata": {
    "collapsed": false
   },
   "outputs": [
    {
     "data": {
      "text/plain": [
       "961021728427298816"
      ]
     },
     "execution_count": 11,
     "metadata": {},
     "output_type": "execute_result"
    }
   ],
   "source": [
    "df.id.loc[0]"
   ]
  },
  {
   "cell_type": "code",
   "execution_count": 26,
   "metadata": {
    "collapsed": false
   },
   "outputs": [
    {
     "data": {
      "text/html": [
       "<div>\n",
       "<style>\n",
       "    .dataframe thead tr:only-child th {\n",
       "        text-align: right;\n",
       "    }\n",
       "\n",
       "    .dataframe thead th {\n",
       "        text-align: left;\n",
       "    }\n",
       "\n",
       "    .dataframe tbody tr th {\n",
       "        vertical-align: top;\n",
       "    }\n",
       "</style>\n",
       "<table border=\"1\" class=\"dataframe\">\n",
       "  <thead>\n",
       "    <tr style=\"text-align: right;\">\n",
       "      <th></th>\n",
       "      <th>hashtags</th>\n",
       "      <th>media</th>\n",
       "      <th>symbols</th>\n",
       "      <th>urls</th>\n",
       "      <th>user_mentions</th>\n",
       "      <th>tweet_id</th>\n",
       "    </tr>\n",
       "  </thead>\n",
       "  <tbody>\n",
       "    <tr>\n",
       "      <th>0</th>\n",
       "      <td>[]</td>\n",
       "      <td>NaN</td>\n",
       "      <td>[]</td>\n",
       "      <td>[{'url': 'https://t.co/fmISNP4twQ', 'expanded_...</td>\n",
       "      <td>[]</td>\n",
       "      <td>961021728427298816</td>\n",
       "    </tr>\n",
       "    <tr>\n",
       "      <th>0</th>\n",
       "      <td>[]</td>\n",
       "      <td>NaN</td>\n",
       "      <td>[]</td>\n",
       "      <td>[{'url': 'https://t.co/SlvSE16DvN', 'expanded_...</td>\n",
       "      <td>[{'screen_name': 'BellsBrewery', 'name': 'Bell...</td>\n",
       "      <td>961021728427298816</td>\n",
       "    </tr>\n",
       "    <tr>\n",
       "      <th>0</th>\n",
       "      <td>[{'text': 'beer', 'indices': [37, 42]}, {'text...</td>\n",
       "      <td>NaN</td>\n",
       "      <td>[]</td>\n",
       "      <td>[{'url': 'https://t.co/0kdZGv8fix', 'expanded_...</td>\n",
       "      <td>[]</td>\n",
       "      <td>961021728427298816</td>\n",
       "    </tr>\n",
       "  </tbody>\n",
       "</table>\n",
       "</div>"
      ],
      "text/plain": [
       "                                            hashtags media symbols  \\\n",
       "0                                                 []   NaN      []   \n",
       "0                                                 []   NaN      []   \n",
       "0  [{'text': 'beer', 'indices': [37, 42]}, {'text...   NaN      []   \n",
       "\n",
       "                                                urls  \\\n",
       "0  [{'url': 'https://t.co/fmISNP4twQ', 'expanded_...   \n",
       "0  [{'url': 'https://t.co/SlvSE16DvN', 'expanded_...   \n",
       "0  [{'url': 'https://t.co/0kdZGv8fix', 'expanded_...   \n",
       "\n",
       "                                       user_mentions            tweet_id  \n",
       "0                                                 []  961021728427298816  \n",
       "0  [{'screen_name': 'BellsBrewery', 'name': 'Bell...  961021728427298816  \n",
       "0                                                 []  961021728427298816  "
      ]
     },
     "execution_count": 26,
     "metadata": {},
     "output_type": "execute_result"
    }
   ],
   "source": [
    "entitiesDf.loc[0]"
   ]
  },
  {
   "cell_type": "code",
   "execution_count": null,
   "metadata": {
    "collapsed": false
   },
   "outputs": [],
   "source": []
  },
  {
   "cell_type": "code",
   "execution_count": null,
   "metadata": {
    "collapsed": false
   },
   "outputs": [],
   "source": []
  },
  {
   "cell_type": "code",
   "execution_count": null,
   "metadata": {
    "collapsed": true
   },
   "outputs": [],
   "source": []
  }
 ],
 "metadata": {
  "kernelspec": {
   "display_name": "Python 3",
   "language": "python",
   "name": "python3"
  },
  "language_info": {
   "codemirror_mode": {
    "name": "ipython",
    "version": 3
   },
   "file_extension": ".py",
   "mimetype": "text/x-python",
   "name": "python",
   "nbconvert_exporter": "python",
   "pygments_lexer": "ipython3",
   "version": "3.6.0"
  }
 },
 "nbformat": 4,
 "nbformat_minor": 2
}
