{
 "cells": [
  {
   "cell_type": "markdown",
   "metadata": {},
   "source": [
    "# Connect with Twitter API\n",
    "#### python sdk can be found @ http://tweepy.readthedocs.io/en/v3.5.0/"
   ]
  },
  {
   "cell_type": "code",
   "execution_count": 31,
   "metadata": {
    "collapsed": false
   },
   "outputs": [
    {
     "data": {
      "text/plain": [
       "'0.20.3'"
      ]
     },
     "execution_count": 31,
     "metadata": {},
     "output_type": "execute_result"
    }
   ],
   "source": [
    "import tweepy\n",
    "import pandas as pd\n",
    "pd.__version__"
   ]
  },
  {
   "cell_type": "code",
   "execution_count": 53,
   "metadata": {
    "collapsed": false
   },
   "outputs": [],
   "source": [
    "df = pd.read_csv(filepath_or_buffer='../data/BrewersAssoc.csv', encoding='latin')\n",
    "df2 = pd.read_csv(filepath_or_buffer='../data/craftbeerdotcom.csv', encoding='latin')\n",
    "df3 = pd.read_csv(filepath_or_buffer='../data/HomebrewAssoc.csv', encoding='latin')\n",
    "twtids = [df,df2,df3]\n",
    "twtids = pd.concat(twtids)\n",
    "toget = twtids[pd.isnull(twtids['retweeted_status'])]['id'].unique()"
   ]
  },
  {
   "cell_type": "code",
   "execution_count": 54,
   "metadata": {
    "collapsed": true
   },
   "outputs": [],
   "source": [
    "auth = tweepy.OAuthHandler('sXlKPefbD9K1x17bioH0wSsNz', 'JrDdo9VmIwL4sGa01nRtKtZrvt207PcU6j5e1NVqABdH9ueSml')\n",
    "auth.set_access_token('392450969-taSU6GLnEdnwdJmnKtjAAsqbvLhg046Tb3o3K866', 'p7eIdYjqR8kkSmjEOI6zLZpply54dyEBQxgH8jDinapoA')\n",
    "\n",
    "api = tweepy.API(auth, wait_on_rate_limit=True, wait_on_rate_limit_notify=True)"
   ]
  },
  {
   "cell_type": "code",
   "execution_count": null,
   "metadata": {
    "collapsed": false
   },
   "outputs": [],
   "source": []
  },
  {
   "cell_type": "code",
   "execution_count": 55,
   "metadata": {
    "collapsed": false,
    "scrolled": false
   },
   "outputs": [
    {
     "name": "stdout",
     "output_type": "stream",
     "text": [
      "Rate limit reached. Sleeping for: 877\n",
      "100/8927\n",
      "Rate limit reached. Sleeping for: 879\n",
      "200/8927\n",
      "Rate limit reached. Sleeping for: 874\n",
      "300/8927\n",
      "Rate limit reached. Sleeping for: 871\n",
      "Rate limit reached. Sleeping for: 875\n",
      "400/8927\n",
      "Rate limit reached. Sleeping for: 875\n",
      "500/8927\n",
      "Rate limit reached. Sleeping for: 871\n",
      "600/8927\n",
      "Rate limit reached. Sleeping for: 873\n",
      "Rate limit reached. Sleeping for: 874\n",
      "700/8927\n",
      "Rate limit reached. Sleeping for: 875\n",
      "800/8927\n",
      "Rate limit reached. Sleeping for: 871\n",
      "900/8927\n",
      "Rate limit reached. Sleeping for: 871\n",
      "Rate limit reached. Sleeping for: 871\n",
      "1000/8927\n",
      "Rate limit reached. Sleeping for: 873\n",
      "1100/8927\n",
      "Rate limit reached. Sleeping for: 874\n",
      "1200/8927\n",
      "Rate limit reached. Sleeping for: 873\n",
      "Rate limit reached. Sleeping for: 872\n",
      "1300/8927\n",
      "Rate limit reached. Sleeping for: 870\n",
      "1400/8927\n",
      "Rate limit reached. Sleeping for: 873\n",
      "1500/8927\n",
      "Rate limit reached. Sleeping for: 876\n",
      "Rate limit reached. Sleeping for: 875\n",
      "1600/8927\n",
      "Rate limit reached. Sleeping for: 872\n",
      "1700/8927\n",
      "Rate limit reached. Sleeping for: 875\n",
      "1800/8927\n",
      "Rate limit reached. Sleeping for: 873\n",
      "Rate limit reached. Sleeping for: 874\n",
      "1900/8927\n",
      "Rate limit reached. Sleeping for: 873\n",
      "2000/8927\n",
      "Rate limit reached. Sleeping for: 873\n",
      "2100/8927\n",
      "Rate limit reached. Sleeping for: 874\n",
      "Rate limit reached. Sleeping for: 872\n",
      "2200/8927\n",
      "Rate limit reached. Sleeping for: 868\n",
      "2300/8927\n",
      "Rate limit reached. Sleeping for: 869\n",
      "2400/8927\n",
      "Rate limit reached. Sleeping for: 872\n",
      "Rate limit reached. Sleeping for: 869\n",
      "2500/8927\n",
      "Rate limit reached. Sleeping for: 874\n",
      "2600/8927\n",
      "Rate limit reached. Sleeping for: 873\n",
      "2700/8927\n",
      "Rate limit reached. Sleeping for: 874\n",
      "Rate limit reached. Sleeping for: 873\n",
      "2800/8927\n",
      "Rate limit reached. Sleeping for: 875\n",
      "2900/8927\n",
      "Rate limit reached. Sleeping for: 873\n",
      "3000/8927\n",
      "Rate limit reached. Sleeping for: 873\n",
      "Rate limit reached. Sleeping for: 876\n",
      "3100/8927\n",
      "Rate limit reached. Sleeping for: 876\n",
      "3200/8927\n",
      "Rate limit reached. Sleeping for: 876\n",
      "3300/8927\n",
      "Rate limit reached. Sleeping for: 876\n",
      "Rate limit reached. Sleeping for: 876\n",
      "3400/8927\n",
      "Rate limit reached. Sleeping for: 876\n",
      "3500/8927\n",
      "Rate limit reached. Sleeping for: 876\n",
      "3600/8927\n",
      "Rate limit reached. Sleeping for: 875\n",
      "Rate limit reached. Sleeping for: 877\n",
      "3700/8927\n",
      "Rate limit reached. Sleeping for: 879\n",
      "3800/8927\n",
      "Rate limit reached. Sleeping for: 878\n",
      "3900/8927\n",
      "Rate limit reached. Sleeping for: 878\n",
      "Rate limit reached. Sleeping for: 874\n",
      "4000/8927\n",
      "Rate limit reached. Sleeping for: 875\n",
      "4100/8927\n",
      "Rate limit reached. Sleeping for: 878\n",
      "4200/8927\n",
      "Rate limit reached. Sleeping for: 877\n",
      "Rate limit reached. Sleeping for: 879\n",
      "4300/8927\n",
      "Rate limit reached. Sleeping for: 877\n",
      "4400/8927\n",
      "Rate limit reached. Sleeping for: 876\n",
      "4500/8927\n",
      "Rate limit reached. Sleeping for: 879\n",
      "Rate limit reached. Sleeping for: 878\n",
      "4600/8927\n",
      "Rate limit reached. Sleeping for: 879\n",
      "4700/8927\n",
      "Rate limit reached. Sleeping for: 870\n",
      "4800/8927\n",
      "Rate limit reached. Sleeping for: 871\n",
      "Rate limit reached. Sleeping for: 876\n",
      "4900/8927\n",
      "Rate limit reached. Sleeping for: 877\n",
      "5000/8927\n",
      "Rate limit reached. Sleeping for: 876\n",
      "5100/8927\n",
      "Rate limit reached. Sleeping for: 879\n",
      "Rate limit reached. Sleeping for: 875\n",
      "5200/8927\n",
      "Rate limit reached. Sleeping for: 876\n",
      "5300/8927\n",
      "Rate limit reached. Sleeping for: 875\n",
      "5400/8927\n",
      "Rate limit reached. Sleeping for: 878\n",
      "Rate limit reached. Sleeping for: 879\n",
      "5500/8927\n",
      "Rate limit reached. Sleeping for: 878\n",
      "5600/8927\n",
      "Rate limit reached. Sleeping for: 878\n",
      "5700/8927\n",
      "Rate limit reached. Sleeping for: 879\n",
      "Rate limit reached. Sleeping for: 878\n",
      "5800/8927\n",
      "Rate limit reached. Sleeping for: 877\n",
      "5900/8927\n",
      "Rate limit reached. Sleeping for: 877\n",
      "6000/8927\n",
      "Rate limit reached. Sleeping for: 877\n",
      "Rate limit reached. Sleeping for: 877\n",
      "6100/8927\n",
      "Rate limit reached. Sleeping for: 878\n",
      "6200/8927\n",
      "Rate limit reached. Sleeping for: 881\n",
      "6300/8927\n",
      "Rate limit reached. Sleeping for: 878\n",
      "Rate limit reached. Sleeping for: 876\n",
      "6400/8927\n",
      "Rate limit reached. Sleeping for: 877\n",
      "6500/8927\n",
      "Rate limit reached. Sleeping for: 878\n",
      "6600/8927\n",
      "Rate limit reached. Sleeping for: 877\n",
      "Rate limit reached. Sleeping for: 877\n",
      "6700/8927\n",
      "Rate limit reached. Sleeping for: 876\n",
      "6800/8927\n",
      "Rate limit reached. Sleeping for: 877\n",
      "6900/8927\n",
      "Rate limit reached. Sleeping for: 877\n",
      "Rate limit reached. Sleeping for: 877\n",
      "7000/8927\n",
      "Rate limit reached. Sleeping for: 878\n",
      "7100/8927\n",
      "Rate limit reached. Sleeping for: 877\n",
      "7200/8927\n",
      "Rate limit reached. Sleeping for: 876\n",
      "Rate limit reached. Sleeping for: 875\n",
      "7300/8927\n",
      "Rate limit reached. Sleeping for: 874\n",
      "7400/8927\n",
      "Rate limit reached. Sleeping for: 877\n",
      "7500/8927\n",
      "Rate limit reached. Sleeping for: 875\n",
      "Rate limit reached. Sleeping for: 879\n",
      "7600/8927\n",
      "Rate limit reached. Sleeping for: 875\n",
      "7700/8927\n",
      "Rate limit reached. Sleeping for: 872\n",
      "7800/8927\n",
      "Rate limit reached. Sleeping for: 873\n",
      "Rate limit reached. Sleeping for: 874\n",
      "7900/8927\n",
      "Rate limit reached. Sleeping for: 872\n",
      "8000/8927\n",
      "Rate limit reached. Sleeping for: 872\n",
      "8100/8927\n",
      "Rate limit reached. Sleeping for: 871\n",
      "Rate limit reached. Sleeping for: 872\n",
      "8200/8927\n",
      "Rate limit reached. Sleeping for: 873\n",
      "8300/8927\n",
      "Rate limit reached. Sleeping for: 873\n",
      "8400/8927\n",
      "Rate limit reached. Sleeping for: 875\n",
      "Rate limit reached. Sleeping for: 873\n",
      "8500/8927\n",
      "Rate limit reached. Sleeping for: 874\n",
      "8600/8927\n",
      "Rate limit reached. Sleeping for: 874\n",
      "8700/8927\n",
      "Rate limit reached. Sleeping for: 873\n",
      "Rate limit reached. Sleeping for: 869\n",
      "8800/8927\n",
      "Rate limit reached. Sleeping for: 871\n",
      "8900/8927\n",
      "Rate limit reached. Sleeping for: 873\n"
     ]
    }
   ],
   "source": [
    "retweetby = pd.DataFrame()\n",
    "cnt = 0\n",
    "for twid in toget:\n",
    "    cnt += 1\n",
    "    if cnt%100==0:\n",
    "        print(\"{0}/{1}\".format(cnt,len(toget)))\n",
    "    req = api.retweets(id=twid)\n",
    "    for itm in req:\n",
    "        temp = pd.DataFrame.from_dict(itm._json, orient='index').transpose()\n",
    "        temp['origin_id'] = twid\n",
    "        #temp = temp[['origin_id','user']]\n",
    "        retweetby = pd.concat([retweetby, temp])\n",
    "retweetby.to_csv('../data/retweetby.csv')"
   ]
  },
  {
   "cell_type": "code",
   "execution_count": 10,
   "metadata": {
    "collapsed": false
   },
   "outputs": [],
   "source": []
  },
  {
   "cell_type": "code",
   "execution_count": null,
   "metadata": {
    "collapsed": false
   },
   "outputs": [],
   "source": []
  },
  {
   "cell_type": "code",
   "execution_count": null,
   "metadata": {
    "collapsed": false
   },
   "outputs": [],
   "source": []
  },
  {
   "cell_type": "code",
   "execution_count": null,
   "metadata": {
    "collapsed": false
   },
   "outputs": [],
   "source": []
  },
  {
   "cell_type": "code",
   "execution_count": null,
   "metadata": {
    "collapsed": true
   },
   "outputs": [],
   "source": []
  },
  {
   "cell_type": "code",
   "execution_count": null,
   "metadata": {
    "collapsed": false
   },
   "outputs": [],
   "source": []
  },
  {
   "cell_type": "code",
   "execution_count": null,
   "metadata": {
    "collapsed": true
   },
   "outputs": [],
   "source": []
  }
 ],
 "metadata": {
  "kernelspec": {
   "display_name": "Python [py35]",
   "language": "python",
   "name": "Python [py35]"
  },
  "language_info": {
   "codemirror_mode": {
    "name": "ipython",
    "version": 3
   },
   "file_extension": ".py",
   "mimetype": "text/x-python",
   "name": "python",
   "nbconvert_exporter": "python",
   "pygments_lexer": "ipython3",
   "version": "3.5.2"
  }
 },
 "nbformat": 4,
 "nbformat_minor": 2
}
