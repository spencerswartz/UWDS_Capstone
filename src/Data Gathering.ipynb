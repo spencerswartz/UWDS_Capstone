{
 "cells": [
  {
   "cell_type": "markdown",
   "metadata": {},
   "source": [
    "# Connect with Twitter API\n",
    "#### python sdk can be found @ http://tweepy.readthedocs.io/en/v3.5.0/"
   ]
  },
  {
   "cell_type": "code",
   "execution_count": 1,
   "metadata": {
    "collapsed": false
   },
   "outputs": [
    {
     "data": {
      "text/plain": [
       "'0.20.3'"
      ]
     },
     "execution_count": 1,
     "metadata": {},
     "output_type": "execute_result"
    }
   ],
   "source": [
    "import tweepy\n",
    "import pandas as pd\n",
    "pd.__version__"
   ]
  },
  {
   "cell_type": "markdown",
   "metadata": {},
   "source": [
    "Must connect with keys\n",
    "\n",
    "This cell does just that and then gathers roughly 3200 of the most recent tweets from the handels in the list handels.\n",
    "It then converts them to a pandas dataframe with may of the columns still needing to be parsed.\n",
    "The dataframe is then saved in csv form to the data folder."
   ]
  },
  {
   "cell_type": "code",
   "execution_count": 80,
   "metadata": {
    "collapsed": false
   },
   "outputs": [
    {
     "name": "stdout",
     "output_type": "stream",
     "text": [
      "3200\n",
      "3212\n",
      "3249\n"
     ]
    }
   ],
   "source": [
    "auth = tweepy.OAuthHandler('sXlKPefbD9K1x17bioH0wSsNz', 'JrDdo9VmIwL4sGa01nRtKtZrvt207PcU6j5e1NVqABdH9ueSml')\n",
    "auth.set_access_token('392450969-taSU6GLnEdnwdJmnKtjAAsqbvLhg046Tb3o3K866', 'p7eIdYjqR8kkSmjEOI6zLZpply54dyEBQxgH8jDinapoA')\n",
    "\n",
    "api = tweepy.API(auth)\n",
    "\n",
    "public_tweets = api.user_timeline(id='BrewersAssoc')\n",
    "\n",
    "handels = ['BrewersAssoc','HomebrewAssoc','craftbeerdotcom']\n",
    "variables = locals()\n",
    "for i in handels:\n",
    "    count=0\n",
    "    pd1=pd.DataFrame()\n",
    "    for tweet in tweepy.Cursor(api.user_timeline, id=i).items():\n",
    "        pd2 = pd.DataFrame.from_dict(tweet._json, orient='index').transpose()\n",
    "        pd1 = pd.concat([pd1,pd2])\n",
    "        count+=1\n",
    "    print(count)\n",
    "    variables[\"df{0}\".format(i)] = pd1\n",
    "    variables[\"df{0}\".format(i)].to_csv(path_or_buf='../Data/{0}.csv'.format(i))\n"
   ]
  },
  {
   "cell_type": "code",
   "execution_count": 2,
   "metadata": {
    "collapsed": false
   },
   "outputs": [
    {
     "ename": "NameError",
     "evalue": "name 'df' is not defined",
     "output_type": "error",
     "traceback": [
      "\u001b[0;31m---------------------------------------------------------------------------\u001b[0m",
      "\u001b[0;31mNameError\u001b[0m                                 Traceback (most recent call last)",
      "\u001b[0;32m<ipython-input-2-50795667fd41>\u001b[0m in \u001b[0;36m<module>\u001b[0;34m()\u001b[0m\n\u001b[0;32m----> 1\u001b[0;31m \u001b[0mtype\u001b[0m\u001b[1;33m(\u001b[0m\u001b[0mdf\u001b[0m\u001b[1;33m.\u001b[0m\u001b[0mentity\u001b[0m\u001b[1;33m)\u001b[0m\u001b[1;33m\u001b[0m\u001b[0m\n\u001b[0m",
      "\u001b[0;31mNameError\u001b[0m: name 'df' is not defined"
     ]
    }
   ],
   "source": [
    "type(df.entity)"
   ]
  },
  {
   "cell_type": "code",
   "execution_count": 2,
   "metadata": {
    "collapsed": false
   },
   "outputs": [],
   "source": [
    "auth = tweepy.OAuthHandler('sXlKPefbD9K1x17bioH0wSsNz', 'JrDdo9VmIwL4sGa01nRtKtZrvt207PcU6j5e1NVqABdH9ueSml')\n",
    "auth.set_access_token('392450969-taSU6GLnEdnwdJmnKtjAAsqbvLhg046Tb3o3K866', 'p7eIdYjqR8kkSmjEOI6zLZpply54dyEBQxgH8jDinapoA')\n",
    "\n",
    "api = tweepy.API(auth)"
   ]
  },
  {
   "cell_type": "code",
   "execution_count": 3,
   "metadata": {
    "collapsed": false
   },
   "outputs": [],
   "source": [
    "public_tweets = api.user_timeline(id='BrewersAssoc')"
   ]
  },
  {
   "cell_type": "code",
   "execution_count": 5,
   "metadata": {
    "collapsed": false
   },
   "outputs": [
    {
     "data": {
      "text/plain": [
       "{'contributors': None,\n",
       " 'coordinates': None,\n",
       " 'created_at': 'Sat Feb 17 14:30:32 +0000 2018',\n",
       " 'entities': {'hashtags': [{'indices': [84, 92], 'text': 'brewery'}],\n",
       "  'symbols': [],\n",
       "  'urls': [{'display_url': 'twitter.com/i/web/status/9…',\n",
       "    'expanded_url': 'https://twitter.com/i/web/status/964869680107225089',\n",
       "    'indices': [109, 132],\n",
       "    'url': 'https://t.co/cfoMwoMGLg'}],\n",
       "  'user_mentions': []},\n",
       " 'favorite_count': 3,\n",
       " 'favorited': False,\n",
       " 'geo': None,\n",
       " 'id': 964869680107225089,\n",
       " 'id_str': '964869680107225089',\n",
       " 'in_reply_to_screen_name': None,\n",
       " 'in_reply_to_status_id': None,\n",
       " 'in_reply_to_status_id_str': None,\n",
       " 'in_reply_to_user_id': None,\n",
       " 'in_reply_to_user_id_str': None,\n",
       " 'is_quote_status': False,\n",
       " 'lang': 'en',\n",
       " 'place': None,\n",
       " 'possibly_sensitive': False,\n",
       " 'retweet_count': 0,\n",
       " 'retweeted': False,\n",
       " 'source': '<a href=\"http://www.hootsuite.com\" rel=\"nofollow\">Hootsuite</a>',\n",
       " 'text': 'Having an optimal balance of these things will help with your hunt for a successful #brewery site location.… https://t.co/cfoMwoMGLg',\n",
       " 'truncated': True,\n",
       " 'user': {'contributors_enabled': False,\n",
       "  'created_at': 'Fri Aug 28 16:11:25 +0000 2009',\n",
       "  'default_profile': True,\n",
       "  'default_profile_image': False,\n",
       "  'description': 'Brewers Association is the not-for-profit trade assoc. dedicated to small & independent American brewers, their beers & the community of brewing enthusiasts.',\n",
       "  'entities': {'description': {'urls': []},\n",
       "   'url': {'urls': [{'display_url': 'BrewersAssociation.org',\n",
       "      'expanded_url': 'http://www.BrewersAssociation.org',\n",
       "      'indices': [0, 22],\n",
       "      'url': 'http://t.co/pgf9af3M6X'}]}},\n",
       "  'favourites_count': 2248,\n",
       "  'follow_request_sent': False,\n",
       "  'followers_count': 74769,\n",
       "  'following': True,\n",
       "  'friends_count': 1832,\n",
       "  'geo_enabled': True,\n",
       "  'has_extended_profile': False,\n",
       "  'id': 69625014,\n",
       "  'id_str': '69625014',\n",
       "  'is_translation_enabled': False,\n",
       "  'is_translator': False,\n",
       "  'lang': 'en',\n",
       "  'listed_count': 1825,\n",
       "  'location': 'Boulder, CO',\n",
       "  'name': 'Brewers Association',\n",
       "  'notifications': False,\n",
       "  'profile_background_color': 'C0DEED',\n",
       "  'profile_background_image_url': 'http://abs.twimg.com/images/themes/theme1/bg.png',\n",
       "  'profile_background_image_url_https': 'https://abs.twimg.com/images/themes/theme1/bg.png',\n",
       "  'profile_background_tile': False,\n",
       "  'profile_banner_url': 'https://pbs.twimg.com/profile_banners/69625014/1516388373',\n",
       "  'profile_image_url': 'http://pbs.twimg.com/profile_images/2266679580/ou3becp2y6526a3kyt9a_normal.png',\n",
       "  'profile_image_url_https': 'https://pbs.twimg.com/profile_images/2266679580/ou3becp2y6526a3kyt9a_normal.png',\n",
       "  'profile_link_color': '1DA1F2',\n",
       "  'profile_sidebar_border_color': 'C0DEED',\n",
       "  'profile_sidebar_fill_color': 'DDEEF6',\n",
       "  'profile_text_color': '333333',\n",
       "  'profile_use_background_image': True,\n",
       "  'protected': False,\n",
       "  'screen_name': 'BrewersAssoc',\n",
       "  'statuses_count': 5679,\n",
       "  'time_zone': None,\n",
       "  'translator_type': 'none',\n",
       "  'url': 'http://t.co/pgf9af3M6X',\n",
       "  'utc_offset': None,\n",
       "  'verified': True}}"
      ]
     },
     "execution_count": 5,
     "metadata": {},
     "output_type": "execute_result"
    }
   ],
   "source": [
    "public_tweets[0]._json"
   ]
  },
  {
   "cell_type": "code",
   "execution_count": null,
   "metadata": {
    "collapsed": false
   },
   "outputs": [],
   "source": []
  },
  {
   "cell_type": "code",
   "execution_count": null,
   "metadata": {
    "collapsed": false
   },
   "outputs": [],
   "source": []
  },
  {
   "cell_type": "code",
   "execution_count": null,
   "metadata": {
    "collapsed": false
   },
   "outputs": [],
   "source": []
  },
  {
   "cell_type": "code",
   "execution_count": null,
   "metadata": {
    "collapsed": true
   },
   "outputs": [],
   "source": []
  },
  {
   "cell_type": "code",
   "execution_count": null,
   "metadata": {
    "collapsed": false
   },
   "outputs": [],
   "source": []
  },
  {
   "cell_type": "code",
   "execution_count": null,
   "metadata": {
    "collapsed": true
   },
   "outputs": [],
   "source": []
  }
 ],
 "metadata": {
  "kernelspec": {
   "display_name": "Python 3",
   "language": "python",
   "name": "python3"
  },
  "language_info": {
   "codemirror_mode": {
    "name": "ipython",
    "version": 3
   },
   "file_extension": ".py",
   "mimetype": "text/x-python",
   "name": "python",
   "nbconvert_exporter": "python",
   "pygments_lexer": "ipython3",
   "version": "3.6.0"
  }
 },
 "nbformat": 4,
 "nbformat_minor": 2
}
